{
 "cells": [
  {
   "cell_type": "markdown",
   "id": "334c57a5",
   "metadata": {},
   "source": [
    "### Aspect Based Sentiment Analysis"
   ]
  },
  {
   "cell_type": "markdown",
   "id": "d1f5e246",
   "metadata": {},
   "source": [
    "##### I- Data Extraction"
   ]
  },
  {
   "cell_type": "code",
   "execution_count": 1,
   "id": "33c41b38",
   "metadata": {},
   "outputs": [],
   "source": [
    "from bs4 import BeautifulSoup\n",
    "import lxml\n",
    "import pandas as pd\n",
    "import seaborn as sns\n",
    "import matplotlib.pyplot as plt\n",
    "import numpy as np"
   ]
  },
  {
   "cell_type": "code",
   "execution_count": 2,
   "id": "350b2a25",
   "metadata": {},
   "outputs": [],
   "source": [
    "def extract_metadata(path):\n",
    "    \n",
    "    with open(path, \"r\",encoding=\"utf-8\") as f:\n",
    "        file = f.read()\n",
    "    \n",
    "    bs_content = BeautifulSoup(file,\"xml\")\n",
    "    \n",
    "    ids, texts, themes, polarities = [], [], [], []\n",
    "    theme_starts, theme_ends = [], []\n",
    "    for id in bs_content.find_all(\"Review\"):\n",
    "        review_id = id.get(\"rid\")\n",
    "        for sentence in id.find_all(\"sentence\"):\n",
    "            text = sentence.find(\"text\").text\n",
    "            for opinion in sentence.find_all(\"Opinion\"):\n",
    "                polarity = opinion.get(\"polarity\")\n",
    "                theme = opinion.get(\"target\")\n",
    "                theme_start = int(opinion.get(\"from\"))\n",
    "                theme_end = int(opinion.get(\"to\"))\n",
    "                if theme == \"NULL\":\n",
    "                    continue\n",
    "\n",
    "                ids.append(review_id)\n",
    "                texts.append(text.lower())\n",
    "                themes.append(theme.lower())\n",
    "                polarities.append(polarity)\n",
    "                theme_starts.append(theme_start)\n",
    "                theme_ends.append(theme_end)\n",
    "    \n",
    "    assert len(ids) == len(texts), \"ERROR: ids length is different from texts length\"\n",
    "    assert len(ids) == len(themes), \"ERROR: ids length is different from themes length\"\n",
    "    assert len(ids) == len(polarities), \"ERROR: ids length is different from polarities length\"\n",
    "    assert len(ids) == len(theme_starts),\"ERROR: ids length is different from theme starts length\"\n",
    "    assert len(ids) == len(theme_ends),\"ERROR: ids length is different from theme ends length\"\n",
    "    \n",
    "    return ids, texts, themes, polarities, theme_starts, theme_ends           "
   ]
  },
  {
   "cell_type": "code",
   "execution_count": 3,
   "id": "df50b7ba",
   "metadata": {},
   "outputs": [],
   "source": [
    "path_train = r'train\\ABSA16FR_Restaurants_Train-withcontent.xml'\n",
    "path_test = r'test_restaurant\\ABSA16FR_Restaurants_Gold-withcontent.xml'"
   ]
  },
  {
   "cell_type": "code",
   "execution_count": 4,
   "id": "f2a08c4f",
   "metadata": {},
   "outputs": [],
   "source": [
    "ids_train, texts_train, themes_train, polarities_train,theme_starts_train, theme_ends_train = extract_metadata(path_train)\n",
    "dataset_train = {\n",
    "    \"id\":ids_train,\n",
    "    \"text\": texts_train,\n",
    "    \"theme\": themes_train,\n",
    "    \"polarity\":polarities_train,\n",
    "    \"theme_starts\": theme_starts_train,\n",
    "    \"theme_ends\": theme_ends_train\n",
    "}\n",
    "# Create dataframe\n",
    "df_train = pd.DataFrame(dataset_train)"
   ]
  },
  {
   "cell_type": "code",
   "execution_count": 5,
   "id": "3a96b89d",
   "metadata": {},
   "outputs": [],
   "source": [
    "ids_test, texts_test, themes_test, polarities_test,theme_starts_test, theme_ends_test = extract_metadata(path_test)\n",
    "dataset_test = {\n",
    "    \"id\":ids_test,\n",
    "    \"text\": texts_test,\n",
    "    \"theme\": themes_test,\n",
    "    \"polarity\":polarities_test,\n",
    "    \"theme_starts\": theme_starts_test,\n",
    "    \"theme_ends\": theme_ends_test\n",
    "}\n",
    "# Create dataframe\n",
    "df_test = pd.DataFrame(dataset_test)"
   ]
  },
  {
   "cell_type": "code",
   "execution_count": 6,
   "id": "876b188b",
   "metadata": {},
   "outputs": [],
   "source": [
    "def label_to_id_transform(label):\n",
    "    \n",
    "    if label == \"neutral\":\n",
    "        return 0\n",
    "    elif label == \"negative\":\n",
    "        return 1\n",
    "    elif label == \"positive\":\n",
    "        return 2"
   ]
  },
  {
   "cell_type": "code",
   "execution_count": 7,
   "id": "d6331268",
   "metadata": {},
   "outputs": [],
   "source": [
    "df_train[\"polarity_id\"] = df_train[\"polarity\"].apply(label_to_id_transform)\n",
    "df_test[\"polarity_id\"] = df_test[\"polarity\"].apply(label_to_id_transform)"
   ]
  },
  {
   "cell_type": "code",
   "execution_count": 8,
   "id": "a300a96e",
   "metadata": {},
   "outputs": [],
   "source": [
    "# Save dataframe\n",
    "df_train.to_csv(\"dataset/train.csv\", index=False)\n",
    "df_test.to_csv(\"dataset/test.csv\", index=False)"
   ]
  },
  {
   "cell_type": "markdown",
   "id": "a626c4ff",
   "metadata": {},
   "source": [
    "#### II- Exploratory Data Analysis"
   ]
  },
  {
   "cell_type": "code",
   "execution_count": 2,
   "id": "13fbc3b0",
   "metadata": {},
   "outputs": [],
   "source": [
    "df = pd.read_csv(\"dataset/train.csv\")"
   ]
  },
  {
   "cell_type": "code",
   "execution_count": 3,
   "id": "5182e601",
   "metadata": {},
   "outputs": [
    {
     "data": {
      "text/html": [
       "<div>\n",
       "<style scoped>\n",
       "    .dataframe tbody tr th:only-of-type {\n",
       "        vertical-align: middle;\n",
       "    }\n",
       "\n",
       "    .dataframe tbody tr th {\n",
       "        vertical-align: top;\n",
       "    }\n",
       "\n",
       "    .dataframe thead th {\n",
       "        text-align: right;\n",
       "    }\n",
       "</style>\n",
       "<table border=\"1\" class=\"dataframe\">\n",
       "  <thead>\n",
       "    <tr style=\"text-align: right;\">\n",
       "      <th></th>\n",
       "      <th>id</th>\n",
       "      <th>text</th>\n",
       "      <th>theme</th>\n",
       "      <th>polarity</th>\n",
       "      <th>theme_starts</th>\n",
       "      <th>theme_ends</th>\n",
       "      <th>polarity_id</th>\n",
       "    </tr>\n",
       "  </thead>\n",
       "  <tbody>\n",
       "    <tr>\n",
       "      <th>0</th>\n",
       "      <td>g1079435-d3498474-r271346275</td>\n",
       "      <td>Un service passable .. Des plats surcuits, des...</td>\n",
       "      <td>service</td>\n",
       "      <td>neutral</td>\n",
       "      <td>3</td>\n",
       "      <td>10</td>\n",
       "      <td>0</td>\n",
       "    </tr>\n",
       "    <tr>\n",
       "      <th>1</th>\n",
       "      <td>g1079435-d3498474-r271346275</td>\n",
       "      <td>Un service passable .. Des plats surcuits, des...</td>\n",
       "      <td>plats</td>\n",
       "      <td>negative</td>\n",
       "      <td>27</td>\n",
       "      <td>32</td>\n",
       "      <td>1</td>\n",
       "    </tr>\n",
       "    <tr>\n",
       "      <th>2</th>\n",
       "      <td>g1079435-d3498474-r271346275</td>\n",
       "      <td>Un service passable .. Des plats surcuits, des...</td>\n",
       "      <td>sauces</td>\n",
       "      <td>negative</td>\n",
       "      <td>47</td>\n",
       "      <td>53</td>\n",
       "      <td>1</td>\n",
       "    </tr>\n",
       "    <tr>\n",
       "      <th>3</th>\n",
       "      <td>g1079435-d3498474-r271346275</td>\n",
       "      <td>Un service passable .. Des plats surcuits, des...</td>\n",
       "      <td>resto</td>\n",
       "      <td>negative</td>\n",
       "      <td>242</td>\n",
       "      <td>247</td>\n",
       "      <td>1</td>\n",
       "    </tr>\n",
       "    <tr>\n",
       "      <th>4</th>\n",
       "      <td>g1080298-d1332050-r275655485</td>\n",
       "      <td>Nous avons bien aimé l'ambiance, sur la promen...</td>\n",
       "      <td>ambiance</td>\n",
       "      <td>positive</td>\n",
       "      <td>23</td>\n",
       "      <td>31</td>\n",
       "      <td>2</td>\n",
       "    </tr>\n",
       "  </tbody>\n",
       "</table>\n",
       "</div>"
      ],
      "text/plain": [
       "                             id  \\\n",
       "0  g1079435-d3498474-r271346275   \n",
       "1  g1079435-d3498474-r271346275   \n",
       "2  g1079435-d3498474-r271346275   \n",
       "3  g1079435-d3498474-r271346275   \n",
       "4  g1080298-d1332050-r275655485   \n",
       "\n",
       "                                                text     theme  polarity  \\\n",
       "0  Un service passable .. Des plats surcuits, des...   service   neutral   \n",
       "1  Un service passable .. Des plats surcuits, des...     plats  negative   \n",
       "2  Un service passable .. Des plats surcuits, des...    sauces  negative   \n",
       "3  Un service passable .. Des plats surcuits, des...     resto  negative   \n",
       "4  Nous avons bien aimé l'ambiance, sur la promen...  ambiance  positive   \n",
       "\n",
       "   theme_starts  theme_ends  polarity_id  \n",
       "0             3          10            0  \n",
       "1            27          32            1  \n",
       "2            47          53            1  \n",
       "3           242         247            1  \n",
       "4            23          31            2  "
      ]
     },
     "execution_count": 3,
     "metadata": {},
     "output_type": "execute_result"
    }
   ],
   "source": [
    "df.head()"
   ]
  },
  {
   "cell_type": "code",
   "execution_count": 11,
   "id": "15a5bf0d",
   "metadata": {},
   "outputs": [
    {
     "data": {
      "text/plain": [
       "(1770, 7)"
      ]
     },
     "execution_count": 11,
     "metadata": {},
     "output_type": "execute_result"
    }
   ],
   "source": [
    "df.shape"
   ]
  },
  {
   "cell_type": "code",
   "execution_count": 12,
   "id": "a8d35e9c",
   "metadata": {},
   "outputs": [
    {
     "data": {
      "text/plain": [
       "Index(['id', 'text', 'theme', 'polarity', 'theme_starts', 'theme_ends',\n",
       "       'polarity_id'],\n",
       "      dtype='object')"
      ]
     },
     "execution_count": 12,
     "metadata": {},
     "output_type": "execute_result"
    }
   ],
   "source": [
    "df.columns"
   ]
  },
  {
   "cell_type": "code",
   "execution_count": 13,
   "id": "36ea9e37",
   "metadata": {},
   "outputs": [
    {
     "data": {
      "text/plain": [
       "id              0\n",
       "text            0\n",
       "theme           0\n",
       "polarity        0\n",
       "theme_starts    0\n",
       "theme_ends      0\n",
       "polarity_id     0\n",
       "dtype: int64"
      ]
     },
     "execution_count": 13,
     "metadata": {},
     "output_type": "execute_result"
    }
   ],
   "source": [
    "df.isna().sum()"
   ]
  },
  {
   "cell_type": "code",
   "execution_count": 14,
   "id": "15683ade",
   "metadata": {},
   "outputs": [
    {
     "data": {
      "text/html": [
       "<div>\n",
       "<style scoped>\n",
       "    .dataframe tbody tr th:only-of-type {\n",
       "        vertical-align: middle;\n",
       "    }\n",
       "\n",
       "    .dataframe tbody tr th {\n",
       "        vertical-align: top;\n",
       "    }\n",
       "\n",
       "    .dataframe thead th {\n",
       "        text-align: right;\n",
       "    }\n",
       "</style>\n",
       "<table border=\"1\" class=\"dataframe\">\n",
       "  <thead>\n",
       "    <tr style=\"text-align: right;\">\n",
       "      <th></th>\n",
       "      <th>id</th>\n",
       "      <th>text</th>\n",
       "      <th>theme</th>\n",
       "      <th>theme_starts</th>\n",
       "      <th>theme_ends</th>\n",
       "      <th>polarity_id</th>\n",
       "    </tr>\n",
       "    <tr>\n",
       "      <th>polarity</th>\n",
       "      <th></th>\n",
       "      <th></th>\n",
       "      <th></th>\n",
       "      <th></th>\n",
       "      <th></th>\n",
       "      <th></th>\n",
       "    </tr>\n",
       "  </thead>\n",
       "  <tbody>\n",
       "    <tr>\n",
       "      <th>negative</th>\n",
       "      <td>753</td>\n",
       "      <td>753</td>\n",
       "      <td>753</td>\n",
       "      <td>753</td>\n",
       "      <td>753</td>\n",
       "      <td>753</td>\n",
       "    </tr>\n",
       "    <tr>\n",
       "      <th>neutral</th>\n",
       "      <td>116</td>\n",
       "      <td>116</td>\n",
       "      <td>116</td>\n",
       "      <td>116</td>\n",
       "      <td>116</td>\n",
       "      <td>116</td>\n",
       "    </tr>\n",
       "    <tr>\n",
       "      <th>positive</th>\n",
       "      <td>901</td>\n",
       "      <td>901</td>\n",
       "      <td>901</td>\n",
       "      <td>901</td>\n",
       "      <td>901</td>\n",
       "      <td>901</td>\n",
       "    </tr>\n",
       "  </tbody>\n",
       "</table>\n",
       "</div>"
      ],
      "text/plain": [
       "           id  text  theme  theme_starts  theme_ends  polarity_id\n",
       "polarity                                                         \n",
       "negative  753   753    753           753         753          753\n",
       "neutral   116   116    116           116         116          116\n",
       "positive  901   901    901           901         901          901"
      ]
     },
     "execution_count": 14,
     "metadata": {},
     "output_type": "execute_result"
    }
   ],
   "source": [
    "df.groupby(\"polarity\").count()"
   ]
  },
  {
   "cell_type": "code",
   "execution_count": 15,
   "id": "e5213b69",
   "metadata": {},
   "outputs": [
    {
     "data": {
      "text/plain": [
       "Text(0.5, 1.0, \"Nombre d'exemple par classe\")"
      ]
     },
     "execution_count": 15,
     "metadata": {},
     "output_type": "execute_result"
    },
    {
     "data": {
      "image/png": "[encoded data removed]",
      "text/plain": [
       "<Figure size 640x480 with 1 Axes>"
      ]
     },
     "metadata": {},
     "output_type": "display_data"
    }
   ],
   "source": [
    "sns.countplot(x=df[\"polarity\"])\n",
    "plt.title(\"Nombre d'exemple par classe\")"
   ]
  },
  {
   "cell_type": "code",
   "execution_count": 16,
   "id": "50909dd0",
   "metadata": {},
   "outputs": [],
   "source": [
    "df[\"text_length\"] = df[\"text\"].apply(\n",
    "    lambda x: len(x.split())\n",
    ")"
   ]
  },
  {
   "cell_type": "code",
   "execution_count": 17,
   "id": "17e66c68",
   "metadata": {},
   "outputs": [
    {
     "data": {
      "text/plain": [
       "Text(0.5, 1.0, 'Distribution taille des textes')"
      ]
     },
     "execution_count": 17,
     "metadata": {},
     "output_type": "execute_result"
    },
    {
     "data": {
      "image/png": "[encoded data removed]",
      "text/plain": [
       "<Figure size 640x480 with 1 Axes>"
      ]
     },
     "metadata": {},
     "output_type": "display_data"
    }
   ],
   "source": [
    "sns.histplot(df[\"text_length\"])\n",
    "plt.title(\"Distribution taille des textes\")"
   ]
  },
  {
   "cell_type": "markdown",
   "id": "97a5b159",
   "metadata": {},
   "source": [
    "### III- Model training"
   ]
  },
  {
   "cell_type": "markdown",
   "id": "511f5503",
   "metadata": {},
   "source": [
    "### 1- Training without marking theme position in the sentence"
   ]
  },
  {
   "cell_type": "code",
   "execution_count": 2,
   "id": "960032f7",
   "metadata": {},
   "outputs": [
    {
     "name": "stderr",
     "output_type": "stream",
     "text": [
      "Found cached dataset csv (C:/Users/hella/.cache/huggingface/datasets/csv/default-23400b862703960f/0.0.0/6b34fb8fcf56f7c8ba51dc895bfa2bfbe43546f190a60fcf74bb5e8afdcc2317)\n"
     ]
    },
    {
     "data": {
      "application/vnd.jupyter.widget-view+json": {
       "model_id": "c450f3fb8f154e19a98eee71aebd765e",
       "version_major": 2,
       "version_minor": 0
      },
      "text/plain": [
       "  0%|          | 0/1 [00:00<?, ?it/s]"
      ]
     },
     "metadata": {},
     "output_type": "display_data"
    },
    {
     "name": "stderr",
     "output_type": "stream",
     "text": [
      "Found cached dataset csv (C:/Users/hella/.cache/huggingface/datasets/csv/default-886437a754511ad6/0.0.0/6b34fb8fcf56f7c8ba51dc895bfa2bfbe43546f190a60fcf74bb5e8afdcc2317)\n"
     ]
    },
    {
     "data": {
      "application/vnd.jupyter.widget-view+json": {
       "model_id": "917d7058f60947b98a8eb8740f58b75c",
       "version_major": 2,
       "version_minor": 0
      },
      "text/plain": [
       "  0%|          | 0/1 [00:00<?, ?it/s]"
      ]
     },
     "metadata": {},
     "output_type": "display_data"
    }
   ],
   "source": [
    "from datasets import load_dataset\n",
    "\n",
    "train_dataset = load_dataset(\"csv\", data_files=\"dataset/train.csv\")\n",
    "test_dataset = load_dataset(\"csv\", data_files=\"dataset/test.csv\")"
   ]
  },
  {
   "cell_type": "code",
   "execution_count": 3,
   "id": "dc92ad4a",
   "metadata": {},
   "outputs": [
    {
     "data": {
      "text/plain": [
       "DatasetDict({\n",
       "    train: Dataset({\n",
       "        features: ['id', 'text', 'theme', 'polarity', 'theme_starts', 'theme_ends', 'polarity_id'],\n",
       "        num_rows: 718\n",
       "    })\n",
       "})"
      ]
     },
     "execution_count": 3,
     "metadata": {},
     "output_type": "execute_result"
    }
   ],
   "source": [
    "test_dataset"
   ]
  },
  {
   "cell_type": "code",
   "execution_count": 4,
   "id": "0f2680f5",
   "metadata": {},
   "outputs": [],
   "source": [
    "from transformers import AutoTokenizer, AutoModelForSequenceClassification"
   ]
  },
  {
   "cell_type": "code",
   "execution_count": 5,
   "id": "b75c97f2",
   "metadata": {},
   "outputs": [],
   "source": [
    "BASE_MODEL = \"camembert-base\"\n",
    "LEARNING_RATE = 2e-5\n",
    "MAX_LENGTH = 256\n",
    "BATCH_SIZE = 4\n",
    "EPOCHS = 10"
   ]
  },
  {
   "cell_type": "code",
   "execution_count": 6,
   "id": "edf8fdfa",
   "metadata": {},
   "outputs": [],
   "source": [
    "id2label = {\"neutral\":0, \"negative\": 1, \"positive\": 2}\n",
    "label2id = {v:k for k,v in id2label.items()}"
   ]
  },
  {
   "cell_type": "code",
   "execution_count": 7,
   "id": "b577ce33",
   "metadata": {},
   "outputs": [],
   "source": [
    "# Fixing the seed\n",
    "from transformers import set_seed\n",
    "set_seed(42)"
   ]
  },
  {
   "cell_type": "code",
   "execution_count": 8,
   "id": "bc570bb7",
   "metadata": {},
   "outputs": [
    {
     "name": "stderr",
     "output_type": "stream",
     "text": [
      "Some weights of the model checkpoint at camembert-base were not used when initializing CamembertForSequenceClassification: ['roberta.pooler.dense.weight', 'lm_head.decoder.weight', 'lm_head.bias', 'roberta.pooler.dense.bias', 'lm_head.layer_norm.bias', 'lm_head.dense.weight', 'lm_head.layer_norm.weight', 'lm_head.dense.bias']\n",
      "- This IS expected if you are initializing CamembertForSequenceClassification from the checkpoint of a model trained on another task or with another architecture (e.g. initializing a BertForSequenceClassification model from a BertForPreTraining model).\n",
      "- This IS NOT expected if you are initializing CamembertForSequenceClassification from the checkpoint of a model that you expect to be exactly identical (initializing a BertForSequenceClassification model from a BertForSequenceClassification model).\n",
      "Some weights of CamembertForSequenceClassification were not initialized from the model checkpoint at camembert-base and are newly initialized: ['classifier.out_proj.weight', 'classifier.dense.weight', 'classifier.out_proj.bias', 'classifier.dense.bias']\n",
      "You should probably TRAIN this model on a down-stream task to be able to use it for predictions and inference.\n"
     ]
    }
   ],
   "source": [
    "tokenizer = AutoTokenizer.from_pretrained(BASE_MODEL)\n",
    "model = AutoModelForSequenceClassification.from_pretrained(BASE_MODEL, id2label=id2label, label2id=label2id)"
   ]
  },
  {
   "cell_type": "code",
   "execution_count": 9,
   "id": "9ec07afc",
   "metadata": {},
   "outputs": [],
   "source": [
    "dataset = {\"train\": train_dataset[\"train\"], \"test\": test_dataset[\"train\"]}\n",
    "\n",
    "def get_features(examples):\n",
    "    \n",
    "    labels = examples[\"polarity_id\"]\n",
    "    examples[\"text\"] = examples[\"text\"] + \" \" + tokenizer.sep_token + \" \" + examples[\"theme\"]\n",
    "    examples = tokenizer(\n",
    "        examples[\"text\"],\n",
    "        max_length = MAX_LENGTH,\n",
    "        truncation = True,\n",
    "        padding = \"max_length\"\n",
    "    )\n",
    "    \n",
    "    examples[\"label\"] = labels\n",
    "    \n",
    "    return examples"
   ]
  },
  {
   "cell_type": "code",
   "execution_count": 10,
   "id": "1ae61ded",
   "metadata": {},
   "outputs": [
    {
     "name": "stderr",
     "output_type": "stream",
     "text": [
      "Loading cached processed dataset at C:\\Users\\hella\\.cache\\huggingface\\datasets\\csv\\default-23400b862703960f\\0.0.0\\6b34fb8fcf56f7c8ba51dc895bfa2bfbe43546f190a60fcf74bb5e8afdcc2317\\cache-a816fd0157f68cf2.arrow\n"
     ]
    },
    {
     "data": {
      "application/vnd.jupyter.widget-view+json": {
       "model_id": "",
       "version_major": 2,
       "version_minor": 0
      },
      "text/plain": [
       "Map:   0%|          | 0/718 [00:00<?, ? examples/s]"
      ]
     },
     "metadata": {},
     "output_type": "display_data"
    }
   ],
   "source": [
    "for data_type in dataset:\n",
    "    dataset[data_type] = dataset[data_type].map(\n",
    "        get_features, remove_columns=[\"id\",\"text\",\"theme\",\"polarity\",\"polarity_id\",\"theme_starts\",\"theme_ends\"]\n",
    "    )"
   ]
  },
  {
   "cell_type": "code",
   "execution_count": 11,
   "id": "aa99563d",
   "metadata": {},
   "outputs": [],
   "source": [
    "import evaluate\n",
    "f1_metric = evaluate.load(\"f1\")"
   ]
  },
  {
   "cell_type": "code",
   "execution_count": 12,
   "id": "f1816d41",
   "metadata": {},
   "outputs": [],
   "source": [
    "def compute_metrics(eval_pred):\n",
    "    logits, labels = eval_pred\n",
    "    predictions = np.argmax(logits, axis=-1)\n",
    "    \n",
    "    return f1_metric.compute(predictions=predictions, references=labels, average=\"macro\")"
   ]
  },
  {
   "cell_type": "code",
   "execution_count": 13,
   "id": "07bd4a43",
   "metadata": {},
   "outputs": [],
   "source": [
    "import torch"
   ]
  },
  {
   "cell_type": "code",
   "execution_count": 14,
   "id": "f5d91635",
   "metadata": {},
   "outputs": [],
   "source": [
    "device = \"cuda\" if torch.cuda.is_available() else \"cpu\""
   ]
  },
  {
   "cell_type": "code",
   "execution_count": 15,
   "id": "9d81bef5",
   "metadata": {},
   "outputs": [
    {
     "data": {
      "text/plain": [
       "CamembertForSequenceClassification(\n",
       "  (roberta): CamembertModel(\n",
       "    (embeddings): CamembertEmbeddings(\n",
       "      (word_embeddings): Embedding(32005, 768, padding_idx=1)\n",
       "      (position_embeddings): Embedding(514, 768, padding_idx=1)\n",
       "      (token_type_embeddings): Embedding(1, 768)\n",
       "      (LayerNorm): LayerNorm((768,), eps=1e-05, elementwise_affine=True)\n",
       "      (dropout): Dropout(p=0.1, inplace=False)\n",
       "    )\n",
       "    (encoder): CamembertEncoder(\n",
       "      (layer): ModuleList(\n",
       "        (0): CamembertLayer(\n",
       "          (attention): CamembertAttention(\n",
       "            (self): CamembertSelfAttention(\n",
       "              (query): Linear(in_features=768, out_features=768, bias=True)\n",
       "              (key): Linear(in_features=768, out_features=768, bias=True)\n",
       "              (value): Linear(in_features=768, out_features=768, bias=True)\n",
       "              (dropout): Dropout(p=0.1, inplace=False)\n",
       "            )\n",
       "            (output): CamembertSelfOutput(\n",
       "              (dense): Linear(in_features=768, out_features=768, bias=True)\n",
       "              (LayerNorm): LayerNorm((768,), eps=1e-05, elementwise_affine=True)\n",
       "              (dropout): Dropout(p=0.1, inplace=False)\n",
       "            )\n",
       "          )\n",
       "          (intermediate): CamembertIntermediate(\n",
       "            (dense): Linear(in_features=768, out_features=3072, bias=True)\n",
       "            (intermediate_act_fn): GELUActivation()\n",
       "          )\n",
       "          (output): CamembertOutput(\n",
       "            (dense): Linear(in_features=3072, out_features=768, bias=True)\n",
       "            (LayerNorm): LayerNorm((768,), eps=1e-05, elementwise_affine=True)\n",
       "            (dropout): Dropout(p=0.1, inplace=False)\n",
       "          )\n",
       "        )\n",
       "        (1): CamembertLayer(\n",
       "          (attention): CamembertAttention(\n",
       "            (self): CamembertSelfAttention(\n",
       "              (query): Linear(in_features=768, out_features=768, bias=True)\n",
       "              (key): Linear(in_features=768, out_features=768, bias=True)\n",
       "              (value): Linear(in_features=768, out_features=768, bias=True)\n",
       "              (dropout): Dropout(p=0.1, inplace=False)\n",
       "            )\n",
       "            (output): CamembertSelfOutput(\n",
       "              (dense): Linear(in_features=768, out_features=768, bias=True)\n",
       "              (LayerNorm): LayerNorm((768,), eps=1e-05, elementwise_affine=True)\n",
       "              (dropout): Dropout(p=0.1, inplace=False)\n",
       "            )\n",
       "          )\n",
       "          (intermediate): CamembertIntermediate(\n",
       "            (dense): Linear(in_features=768, out_features=3072, bias=True)\n",
       "            (intermediate_act_fn): GELUActivation()\n",
       "          )\n",
       "          (output): CamembertOutput(\n",
       "            (dense): Linear(in_features=3072, out_features=768, bias=True)\n",
       "            (LayerNorm): LayerNorm((768,), eps=1e-05, elementwise_affine=True)\n",
       "            (dropout): Dropout(p=0.1, inplace=False)\n",
       "          )\n",
       "        )\n",
       "        (2): CamembertLayer(\n",
       "          (attention): CamembertAttention(\n",
       "            (self): CamembertSelfAttention(\n",
       "              (query): Linear(in_features=768, out_features=768, bias=True)\n",
       "              (key): Linear(in_features=768, out_features=768, bias=True)\n",
       "              (value): Linear(in_features=768, out_features=768, bias=True)\n",
       "              (dropout): Dropout(p=0.1, inplace=False)\n",
       "            )\n",
       "            (output): CamembertSelfOutput(\n",
       "              (dense): Linear(in_features=768, out_features=768, bias=True)\n",
       "              (LayerNorm): LayerNorm((768,), eps=1e-05, elementwise_affine=True)\n",
       "              (dropout): Dropout(p=0.1, inplace=False)\n",
       "            )\n",
       "          )\n",
       "          (intermediate): CamembertIntermediate(\n",
       "            (dense): Linear(in_features=768, out_features=3072, bias=True)\n",
       "            (intermediate_act_fn): GELUActivation()\n",
       "          )\n",
       "          (output): CamembertOutput(\n",
       "            (dense): Linear(in_features=3072, out_features=768, bias=True)\n",
       "            (LayerNorm): LayerNorm((768,), eps=1e-05, elementwise_affine=True)\n",
       "            (dropout): Dropout(p=0.1, inplace=False)\n",
       "          )\n",
       "        )\n",
       "        (3): CamembertLayer(\n",
       "          (attention): CamembertAttention(\n",
       "            (self): CamembertSelfAttention(\n",
       "              (query): Linear(in_features=768, out_features=768, bias=True)\n",
       "              (key): Linear(in_features=768, out_features=768, bias=True)\n",
       "              (value): Linear(in_features=768, out_features=768, bias=True)\n",
       "              (dropout): Dropout(p=0.1, inplace=False)\n",
       "            )\n",
       "            (output): CamembertSelfOutput(\n",
       "              (dense): Linear(in_features=768, out_features=768, bias=True)\n",
       "              (LayerNorm): LayerNorm((768,), eps=1e-05, elementwise_affine=True)\n",
       "              (dropout): Dropout(p=0.1, inplace=False)\n",
       "            )\n",
       "          )\n",
       "          (intermediate): CamembertIntermediate(\n",
       "            (dense): Linear(in_features=768, out_features=3072, bias=True)\n",
       "            (intermediate_act_fn): GELUActivation()\n",
       "          )\n",
       "          (output): CamembertOutput(\n",
       "            (dense): Linear(in_features=3072, out_features=768, bias=True)\n",
       "            (LayerNorm): LayerNorm((768,), eps=1e-05, elementwise_affine=True)\n",
       "            (dropout): Dropout(p=0.1, inplace=False)\n",
       "          )\n",
       "        )\n",
       "        (4): CamembertLayer(\n",
       "          (attention): CamembertAttention(\n",
       "            (self): CamembertSelfAttention(\n",
       "              (query): Linear(in_features=768, out_features=768, bias=True)\n",
       "              (key): Linear(in_features=768, out_features=768, bias=True)\n",
       "              (value): Linear(in_features=768, out_features=768, bias=True)\n",
       "              (dropout): Dropout(p=0.1, inplace=False)\n",
       "            )\n",
       "            (output): CamembertSelfOutput(\n",
       "              (dense): Linear(in_features=768, out_features=768, bias=True)\n",
       "              (LayerNorm): LayerNorm((768,), eps=1e-05, elementwise_affine=True)\n",
       "              (dropout): Dropout(p=0.1, inplace=False)\n",
       "            )\n",
       "          )\n",
       "          (intermediate): CamembertIntermediate(\n",
       "            (dense): Linear(in_features=768, out_features=3072, bias=True)\n",
       "            (intermediate_act_fn): GELUActivation()\n",
       "          )\n",
       "          (output): CamembertOutput(\n",
       "            (dense): Linear(in_features=3072, out_features=768, bias=True)\n",
       "            (LayerNorm): LayerNorm((768,), eps=1e-05, elementwise_affine=True)\n",
       "            (dropout): Dropout(p=0.1, inplace=False)\n",
       "          )\n",
       "        )\n",
       "        (5): CamembertLayer(\n",
       "          (attention): CamembertAttention(\n",
       "            (self): CamembertSelfAttention(\n",
       "              (query): Linear(in_features=768, out_features=768, bias=True)\n",
       "              (key): Linear(in_features=768, out_features=768, bias=True)\n",
       "              (value): Linear(in_features=768, out_features=768, bias=True)\n",
       "              (dropout): Dropout(p=0.1, inplace=False)\n",
       "            )\n",
       "            (output): CamembertSelfOutput(\n",
       "              (dense): Linear(in_features=768, out_features=768, bias=True)\n",
       "              (LayerNorm): LayerNorm((768,), eps=1e-05, elementwise_affine=True)\n",
       "              (dropout): Dropout(p=0.1, inplace=False)\n",
       "            )\n",
       "          )\n",
       "          (intermediate): CamembertIntermediate(\n",
       "            (dense): Linear(in_features=768, out_features=3072, bias=True)\n",
       "            (intermediate_act_fn): GELUActivation()\n",
       "          )\n",
       "          (output): CamembertOutput(\n",
       "            (dense): Linear(in_features=3072, out_features=768, bias=True)\n",
       "            (LayerNorm): LayerNorm((768,), eps=1e-05, elementwise_affine=True)\n",
       "            (dropout): Dropout(p=0.1, inplace=False)\n",
       "          )\n",
       "        )\n",
       "        (6): CamembertLayer(\n",
       "          (attention): CamembertAttention(\n",
       "            (self): CamembertSelfAttention(\n",
       "              (query): Linear(in_features=768, out_features=768, bias=True)\n",
       "              (key): Linear(in_features=768, out_features=768, bias=True)\n",
       "              (value): Linear(in_features=768, out_features=768, bias=True)\n",
       "              (dropout): Dropout(p=0.1, inplace=False)\n",
       "            )\n",
       "            (output): CamembertSelfOutput(\n",
       "              (dense): Linear(in_features=768, out_features=768, bias=True)\n",
       "              (LayerNorm): LayerNorm((768,), eps=1e-05, elementwise_affine=True)\n",
       "              (dropout): Dropout(p=0.1, inplace=False)\n",
       "            )\n",
       "          )\n",
       "          (intermediate): CamembertIntermediate(\n",
       "            (dense): Linear(in_features=768, out_features=3072, bias=True)\n",
       "            (intermediate_act_fn): GELUActivation()\n",
       "          )\n",
       "          (output): CamembertOutput(\n",
       "            (dense): Linear(in_features=3072, out_features=768, bias=True)\n",
       "            (LayerNorm): LayerNorm((768,), eps=1e-05, elementwise_affine=True)\n",
       "            (dropout): Dropout(p=0.1, inplace=False)\n",
       "          )\n",
       "        )\n",
       "        (7): CamembertLayer(\n",
       "          (attention): CamembertAttention(\n",
       "            (self): CamembertSelfAttention(\n",
       "              (query): Linear(in_features=768, out_features=768, bias=True)\n",
       "              (key): Linear(in_features=768, out_features=768, bias=True)\n",
       "              (value): Linear(in_features=768, out_features=768, bias=True)\n",
       "              (dropout): Dropout(p=0.1, inplace=False)\n",
       "            )\n",
       "            (output): CamembertSelfOutput(\n",
       "              (dense): Linear(in_features=768, out_features=768, bias=True)\n",
       "              (LayerNorm): LayerNorm((768,), eps=1e-05, elementwise_affine=True)\n",
       "              (dropout): Dropout(p=0.1, inplace=False)\n",
       "            )\n",
       "          )\n",
       "          (intermediate): CamembertIntermediate(\n",
       "            (dense): Linear(in_features=768, out_features=3072, bias=True)\n",
       "            (intermediate_act_fn): GELUActivation()\n",
       "          )\n",
       "          (output): CamembertOutput(\n",
       "            (dense): Linear(in_features=3072, out_features=768, bias=True)\n",
       "            (LayerNorm): LayerNorm((768,), eps=1e-05, elementwise_affine=True)\n",
       "            (dropout): Dropout(p=0.1, inplace=False)\n",
       "          )\n",
       "        )\n",
       "        (8): CamembertLayer(\n",
       "          (attention): CamembertAttention(\n",
       "            (self): CamembertSelfAttention(\n",
       "              (query): Linear(in_features=768, out_features=768, bias=True)\n",
       "              (key): Linear(in_features=768, out_features=768, bias=True)\n",
       "              (value): Linear(in_features=768, out_features=768, bias=True)\n",
       "              (dropout): Dropout(p=0.1, inplace=False)\n",
       "            )\n",
       "            (output): CamembertSelfOutput(\n",
       "              (dense): Linear(in_features=768, out_features=768, bias=True)\n",
       "              (LayerNorm): LayerNorm((768,), eps=1e-05, elementwise_affine=True)\n",
       "              (dropout): Dropout(p=0.1, inplace=False)\n",
       "            )\n",
       "          )\n",
       "          (intermediate): CamembertIntermediate(\n",
       "            (dense): Linear(in_features=768, out_features=3072, bias=True)\n",
       "            (intermediate_act_fn): GELUActivation()\n",
       "          )\n",
       "          (output): CamembertOutput(\n",
       "            (dense): Linear(in_features=3072, out_features=768, bias=True)\n",
       "            (LayerNorm): LayerNorm((768,), eps=1e-05, elementwise_affine=True)\n",
       "            (dropout): Dropout(p=0.1, inplace=False)\n",
       "          )\n",
       "        )\n",
       "        (9): CamembertLayer(\n",
       "          (attention): CamembertAttention(\n",
       "            (self): CamembertSelfAttention(\n",
       "              (query): Linear(in_features=768, out_features=768, bias=True)\n",
       "              (key): Linear(in_features=768, out_features=768, bias=True)\n",
       "              (value): Linear(in_features=768, out_features=768, bias=True)\n",
       "              (dropout): Dropout(p=0.1, inplace=False)\n",
       "            )\n",
       "            (output): CamembertSelfOutput(\n",
       "              (dense): Linear(in_features=768, out_features=768, bias=True)\n",
       "              (LayerNorm): LayerNorm((768,), eps=1e-05, elementwise_affine=True)\n",
       "              (dropout): Dropout(p=0.1, inplace=False)\n",
       "            )\n",
       "          )\n",
       "          (intermediate): CamembertIntermediate(\n",
       "            (dense): Linear(in_features=768, out_features=3072, bias=True)\n",
       "            (intermediate_act_fn): GELUActivation()\n",
       "          )\n",
       "          (output): CamembertOutput(\n",
       "            (dense): Linear(in_features=3072, out_features=768, bias=True)\n",
       "            (LayerNorm): LayerNorm((768,), eps=1e-05, elementwise_affine=True)\n",
       "            (dropout): Dropout(p=0.1, inplace=False)\n",
       "          )\n",
       "        )\n",
       "        (10): CamembertLayer(\n",
       "          (attention): CamembertAttention(\n",
       "            (self): CamembertSelfAttention(\n",
       "              (query): Linear(in_features=768, out_features=768, bias=True)\n",
       "              (key): Linear(in_features=768, out_features=768, bias=True)\n",
       "              (value): Linear(in_features=768, out_features=768, bias=True)\n",
       "              (dropout): Dropout(p=0.1, inplace=False)\n",
       "            )\n",
       "            (output): CamembertSelfOutput(\n",
       "              (dense): Linear(in_features=768, out_features=768, bias=True)\n",
       "              (LayerNorm): LayerNorm((768,), eps=1e-05, elementwise_affine=True)\n",
       "              (dropout): Dropout(p=0.1, inplace=False)\n",
       "            )\n",
       "          )\n",
       "          (intermediate): CamembertIntermediate(\n",
       "            (dense): Linear(in_features=768, out_features=3072, bias=True)\n",
       "            (intermediate_act_fn): GELUActivation()\n",
       "          )\n",
       "          (output): CamembertOutput(\n",
       "            (dense): Linear(in_features=3072, out_features=768, bias=True)\n",
       "            (LayerNorm): LayerNorm((768,), eps=1e-05, elementwise_affine=True)\n",
       "            (dropout): Dropout(p=0.1, inplace=False)\n",
       "          )\n",
       "        )\n",
       "        (11): CamembertLayer(\n",
       "          (attention): CamembertAttention(\n",
       "            (self): CamembertSelfAttention(\n",
       "              (query): Linear(in_features=768, out_features=768, bias=True)\n",
       "              (key): Linear(in_features=768, out_features=768, bias=True)\n",
       "              (value): Linear(in_features=768, out_features=768, bias=True)\n",
       "              (dropout): Dropout(p=0.1, inplace=False)\n",
       "            )\n",
       "            (output): CamembertSelfOutput(\n",
       "              (dense): Linear(in_features=768, out_features=768, bias=True)\n",
       "              (LayerNorm): LayerNorm((768,), eps=1e-05, elementwise_affine=True)\n",
       "              (dropout): Dropout(p=0.1, inplace=False)\n",
       "            )\n",
       "          )\n",
       "          (intermediate): CamembertIntermediate(\n",
       "            (dense): Linear(in_features=768, out_features=3072, bias=True)\n",
       "            (intermediate_act_fn): GELUActivation()\n",
       "          )\n",
       "          (output): CamembertOutput(\n",
       "            (dense): Linear(in_features=3072, out_features=768, bias=True)\n",
       "            (LayerNorm): LayerNorm((768,), eps=1e-05, elementwise_affine=True)\n",
       "            (dropout): Dropout(p=0.1, inplace=False)\n",
       "          )\n",
       "        )\n",
       "      )\n",
       "    )\n",
       "  )\n",
       "  (classifier): CamembertClassificationHead(\n",
       "    (dense): Linear(in_features=768, out_features=768, bias=True)\n",
       "    (dropout): Dropout(p=0.1, inplace=False)\n",
       "    (out_proj): Linear(in_features=768, out_features=3, bias=True)\n",
       "  )\n",
       ")"
      ]
     },
     "execution_count": 15,
     "metadata": {},
     "output_type": "execute_result"
    }
   ],
   "source": [
    "model.to(device)"
   ]
  },
  {
   "cell_type": "code",
   "execution_count": 16,
   "id": "2c31f7e2",
   "metadata": {},
   "outputs": [],
   "source": [
    "from transformers import TrainingArguments\n",
    "\n",
    "training_args = TrainingArguments(\n",
    "    output_dir = \"model/without_marking\",\n",
    "    learning_rate = LEARNING_RATE,\n",
    "    per_device_train_batch_size=BATCH_SIZE,\n",
    "    per_device_eval_batch_size=BATCH_SIZE,\n",
    "    num_train_epochs=EPOCHS,\n",
    "    evaluation_strategy=\"epoch\",\n",
    "    save_strategy=\"epoch\",\n",
    "    metric_for_best_model=\"f1\",\n",
    "    load_best_model_at_end=True,\n",
    "    weight_decay=0.01,\n",
    ")"
   ]
  },
  {
   "cell_type": "code",
   "execution_count": 17,
   "id": "5830cda0",
   "metadata": {},
   "outputs": [],
   "source": [
    "from transformers import Trainer\n",
    "\n",
    "trainer = Trainer(\n",
    "    model=model,\n",
    "    args = training_args,\n",
    "    train_dataset = dataset[\"train\"],\n",
    "    eval_dataset= dataset[\"test\"],\n",
    "    compute_metrics=compute_metrics\n",
    ")\n",
    "\n"
   ]
  },
  {
   "cell_type": "code",
   "execution_count": 18,
   "id": "a893f5bf",
   "metadata": {},
   "outputs": [
    {
     "name": "stderr",
     "output_type": "stream",
     "text": [
      "C:\\Users\\hella\\anaconda3\\lib\\site-packages\\transformers\\optimization.py:306: FutureWarning: This implementation of AdamW is deprecated and will be removed in a future version. Use the PyTorch implementation torch.optim.AdamW instead, or set `no_deprecation_warning=True` to disable this warning\n",
      "  warnings.warn(\n",
      "***** Running training *****\n",
      "  Num examples = 1770\n",
      "  Num Epochs = 10\n",
      "  Instantaneous batch size per device = 4\n",
      "  Total train batch size (w. parallel, distributed & accumulation) = 4\n",
      "  Gradient Accumulation steps = 1\n",
      "  Total optimization steps = 4430\n",
      "  Number of trainable parameters = 110624259\n"
     ]
    },
    {
     "data": {
      "text/html": [
       "\n",
       "    <div>\n",
       "      \n",
       "      <progress value='4430' max='4430' style='width:300px; height:20px; vertical-align: middle;'></progress>\n",
       "      [4430/4430 18:13, Epoch 10/10]\n",
       "    </div>\n",
       "    <table border=\"1\" class=\"dataframe\">\n",
       "  <thead>\n",
       " <tr style=\"text-align: left;\">\n",
       "      <th>Epoch</th>\n",
       "      <th>Training Loss</th>\n",
       "      <th>Validation Loss</th>\n",
       "      <th>F1</th>\n",
       "    </tr>\n",
       "  </thead>\n",
       "  <tbody>\n",
       "    <tr>\n",
       "      <td>1</td>\n",
       "      <td>No log</td>\n",
       "      <td>0.651396</td>\n",
       "      <td>0.552482</td>\n",
       "    </tr>\n",
       "    <tr>\n",
       "      <td>2</td>\n",
       "      <td>0.622000</td>\n",
       "      <td>0.522716</td>\n",
       "      <td>0.627692</td>\n",
       "    </tr>\n",
       "    <tr>\n",
       "      <td>3</td>\n",
       "      <td>0.389800</td>\n",
       "      <td>0.690186</td>\n",
       "      <td>0.652682</td>\n",
       "    </tr>\n",
       "    <tr>\n",
       "      <td>4</td>\n",
       "      <td>0.268800</td>\n",
       "      <td>0.685600</td>\n",
       "      <td>0.733477</td>\n",
       "    </tr>\n",
       "    <tr>\n",
       "      <td>5</td>\n",
       "      <td>0.205300</td>\n",
       "      <td>0.662686</td>\n",
       "      <td>0.776930</td>\n",
       "    </tr>\n",
       "    <tr>\n",
       "      <td>6</td>\n",
       "      <td>0.164400</td>\n",
       "      <td>0.647773</td>\n",
       "      <td>0.779555</td>\n",
       "    </tr>\n",
       "    <tr>\n",
       "      <td>7</td>\n",
       "      <td>0.130800</td>\n",
       "      <td>0.646415</td>\n",
       "      <td>0.785623</td>\n",
       "    </tr>\n",
       "    <tr>\n",
       "      <td>8</td>\n",
       "      <td>0.092200</td>\n",
       "      <td>0.716057</td>\n",
       "      <td>0.786759</td>\n",
       "    </tr>\n",
       "    <tr>\n",
       "      <td>9</td>\n",
       "      <td>0.092200</td>\n",
       "      <td>0.728910</td>\n",
       "      <td>0.775806</td>\n",
       "    </tr>\n",
       "    <tr>\n",
       "      <td>10</td>\n",
       "      <td>0.094000</td>\n",
       "      <td>0.729548</td>\n",
       "      <td>0.786710</td>\n",
       "    </tr>\n",
       "  </tbody>\n",
       "</table><p>"
      ],
      "text/plain": [
       "<IPython.core.display.HTML object>"
      ]
     },
     "metadata": {},
     "output_type": "display_data"
    },
    {
     "name": "stderr",
     "output_type": "stream",
     "text": [
      "***** Running Evaluation *****\n",
      "  Num examples = 718\n",
      "  Batch size = 4\n",
      "Saving model checkpoint to model/without_marking\\checkpoint-443\n",
      "Configuration saved in model/without_marking\\checkpoint-443\\config.json\n",
      "Model weights saved in model/without_marking\\checkpoint-443\\pytorch_model.bin\n",
      "***** Running Evaluation *****\n",
      "  Num examples = 718\n",
      "  Batch size = 4\n",
      "Saving model checkpoint to model/without_marking\\checkpoint-886\n",
      "Configuration saved in model/without_marking\\checkpoint-886\\config.json\n",
      "Model weights saved in model/without_marking\\checkpoint-886\\pytorch_model.bin\n",
      "***** Running Evaluation *****\n",
      "  Num examples = 718\n",
      "  Batch size = 4\n",
      "Saving model checkpoint to model/without_marking\\checkpoint-1329\n",
      "Configuration saved in model/without_marking\\checkpoint-1329\\config.json\n",
      "Model weights saved in model/without_marking\\checkpoint-1329\\pytorch_model.bin\n",
      "***** Running Evaluation *****\n",
      "  Num examples = 718\n",
      "  Batch size = 4\n",
      "Saving model checkpoint to model/without_marking\\checkpoint-1772\n",
      "Configuration saved in model/without_marking\\checkpoint-1772\\config.json\n",
      "Model weights saved in model/without_marking\\checkpoint-1772\\pytorch_model.bin\n",
      "***** Running Evaluation *****\n",
      "  Num examples = 718\n",
      "  Batch size = 4\n",
      "Saving model checkpoint to model/without_marking\\checkpoint-2215\n",
      "Configuration saved in model/without_marking\\checkpoint-2215\\config.json\n",
      "Model weights saved in model/without_marking\\checkpoint-2215\\pytorch_model.bin\n",
      "***** Running Evaluation *****\n",
      "  Num examples = 718\n",
      "  Batch size = 4\n",
      "Saving model checkpoint to model/without_marking\\checkpoint-2658\n",
      "Configuration saved in model/without_marking\\checkpoint-2658\\config.json\n",
      "Model weights saved in model/without_marking\\checkpoint-2658\\pytorch_model.bin\n",
      "***** Running Evaluation *****\n",
      "  Num examples = 718\n",
      "  Batch size = 4\n",
      "Saving model checkpoint to model/without_marking\\checkpoint-3101\n",
      "Configuration saved in model/without_marking\\checkpoint-3101\\config.json\n",
      "Model weights saved in model/without_marking\\checkpoint-3101\\pytorch_model.bin\n",
      "***** Running Evaluation *****\n",
      "  Num examples = 718\n",
      "  Batch size = 4\n",
      "Saving model checkpoint to model/without_marking\\checkpoint-3544\n",
      "Configuration saved in model/without_marking\\checkpoint-3544\\config.json\n",
      "Model weights saved in model/without_marking\\checkpoint-3544\\pytorch_model.bin\n",
      "***** Running Evaluation *****\n",
      "  Num examples = 718\n",
      "  Batch size = 4\n",
      "Saving model checkpoint to model/without_marking\\checkpoint-3987\n",
      "Configuration saved in model/without_marking\\checkpoint-3987\\config.json\n",
      "Model weights saved in model/without_marking\\checkpoint-3987\\pytorch_model.bin\n",
      "***** Running Evaluation *****\n",
      "  Num examples = 718\n",
      "  Batch size = 4\n",
      "Saving model checkpoint to model/without_marking\\checkpoint-4430\n",
      "Configuration saved in model/without_marking\\checkpoint-4430\\config.json\n",
      "Model weights saved in model/without_marking\\checkpoint-4430\\pytorch_model.bin\n",
      "\n",
      "\n",
      "Training completed. Do not forget to share your model on huggingface.co/models =)\n",
      "\n",
      "\n",
      "Loading best model from model/without_marking\\checkpoint-3544 (score: 0.7867592066730705).\n"
     ]
    },
    {
     "data": {
      "text/plain": [
       "TrainOutput(global_step=4430, training_loss=0.22980517178572057, metrics={'train_runtime': 1094.1331, 'train_samples_per_second': 16.177, 'train_steps_per_second': 4.049, 'total_flos': 2328553746892800.0, 'train_loss': 0.22980517178572057, 'epoch': 10.0})"
      ]
     },
     "execution_count": 18,
     "metadata": {},
     "output_type": "execute_result"
    }
   ],
   "source": [
    "trainer.train()"
   ]
  },
  {
   "cell_type": "code",
   "execution_count": 19,
   "id": "b77cbe19",
   "metadata": {},
   "outputs": [
    {
     "name": "stderr",
     "output_type": "stream",
     "text": [
      "***** Running Evaluation *****\n",
      "  Num examples = 718\n",
      "  Batch size = 4\n"
     ]
    },
    {
     "data": {
      "text/html": [
       "\n",
       "    <div>\n",
       "      \n",
       "      <progress value='180' max='180' style='width:300px; height:20px; vertical-align: middle;'></progress>\n",
       "      [180/180 00:10]\n",
       "    </div>\n",
       "    "
      ],
      "text/plain": [
       "<IPython.core.display.HTML object>"
      ]
     },
     "metadata": {},
     "output_type": "display_data"
    },
    {
     "data": {
      "text/plain": [
       "{'eval_loss': 0.716057300567627,\n",
       " 'eval_f1': 0.7867592066730705,\n",
       " 'eval_runtime': 11.1161,\n",
       " 'eval_samples_per_second': 64.591,\n",
       " 'eval_steps_per_second': 16.193,\n",
       " 'epoch': 10.0}"
      ]
     },
     "execution_count": 19,
     "metadata": {},
     "output_type": "execute_result"
    }
   ],
   "source": [
    "trainer.eval_dataset=dataset[\"test\"]\n",
    "trainer.evaluate()"
   ]
  },
  {
   "cell_type": "code",
   "execution_count": 20,
   "id": "cec3cea2",
   "metadata": {},
   "outputs": [
    {
     "name": "stderr",
     "output_type": "stream",
     "text": [
      "Configuration saved in model/without_marking//best_checkpoint\\config.json\n",
      "Model weights saved in model/without_marking//best_checkpoint\\pytorch_model.bin\n"
     ]
    }
   ],
   "source": [
    "model.save_pretrained(\"model/without_marking//best_checkpoint\")"
   ]
  },
  {
   "cell_type": "code",
   "execution_count": 21,
   "id": "1af2c6d7",
   "metadata": {},
   "outputs": [
    {
     "name": "stderr",
     "output_type": "stream",
     "text": [
      "tokenizer config file saved in model/without_marking/best_checkpoint\\tokenizer_config.json\n",
      "Special tokens file saved in model/without_marking/best_checkpoint\\special_tokens_map.json\n"
     ]
    },
    {
     "data": {
      "text/plain": [
       "('model/without_marking/best_checkpoint\\\\tokenizer_config.json',\n",
       " 'model/without_marking/best_checkpoint\\\\special_tokens_map.json',\n",
       " 'model/without_marking/best_checkpoint\\\\sentencepiece.bpe.model',\n",
       " 'model/without_marking/best_checkpoint\\\\added_tokens.json',\n",
       " 'model/without_marking/best_checkpoint\\\\tokenizer.json')"
      ]
     },
     "execution_count": 21,
     "metadata": {},
     "output_type": "execute_result"
    }
   ],
   "source": [
    "tokenizer.save_pretrained(\"model/without_marking/best_checkpoint\")"
   ]
  },
  {
   "cell_type": "code",
   "execution_count": 22,
   "id": "26043f48",
   "metadata": {},
   "outputs": [],
   "source": [
    "def transform_text(examples):\n",
    "    examples[\"text\"] = examples[\"text\"] + \" \" + tokenizer.sep_token + \" \" + examples[\"theme\"]\n",
    "    \n",
    "    return examples"
   ]
  },
  {
   "cell_type": "code",
   "execution_count": 23,
   "id": "b55ff634",
   "metadata": {},
   "outputs": [
    {
     "name": "stderr",
     "output_type": "stream",
     "text": [
      "Loading cached processed dataset at C:\\Users\\hella\\.cache\\huggingface\\datasets\\csv\\default-886437a754511ad6\\0.0.0\\6b34fb8fcf56f7c8ba51dc895bfa2bfbe43546f190a60fcf74bb5e8afdcc2317\\cache-8507610b4bf18038.arrow\n"
     ]
    }
   ],
   "source": [
    "test_dataset = test_dataset.map(transform_text)"
   ]
  },
  {
   "cell_type": "code",
   "execution_count": 24,
   "id": "f562c93f",
   "metadata": {},
   "outputs": [],
   "source": [
    "import math\n",
    "import pandas as pd\n",
    "\n",
    "nb_batches = math.ceil(len(test_dataset[\"train\"])/BATCH_SIZE)\n",
    "y_preds = []\n",
    "\n",
    "for i in range(nb_batches):\n",
    "    input_texts = test_dataset[\"train\"][i * BATCH_SIZE: (i+1) * BATCH_SIZE][\"text\"]\n",
    "    input_labels = test_dataset[\"train\"][i * BATCH_SIZE: (i+1) * BATCH_SIZE][\"polarity_id\"]\n",
    "    encoded = tokenizer(input_texts, truncation=True, padding=\"max_length\", max_length=256, return_tensors=\"pt\").to(device)\n",
    "    y_preds += np.argmax(model(**encoded).logits.detach().cpu(),axis=-1).tolist()"
   ]
  },
  {
   "cell_type": "code",
   "execution_count": 25,
   "id": "9ea6e536",
   "metadata": {},
   "outputs": [],
   "source": [
    "df = pd.DataFrame(\n",
    "    [test_dataset[\"train\"][\"text\"],test_dataset[\"train\"][\"theme\"], test_dataset[\"train\"][\"polarity_id\"], y_preds],\n",
    "    [\"text\", \"theme\",\"polarity\",\"predicted_polarity\"]\n",
    ").T"
   ]
  },
  {
   "cell_type": "code",
   "execution_count": 26,
   "id": "69533f80",
   "metadata": {},
   "outputs": [],
   "source": [
    "from sklearn.metrics import classification_report"
   ]
  },
  {
   "cell_type": "code",
   "execution_count": 27,
   "id": "6fb1be2d",
   "metadata": {},
   "outputs": [
    {
     "name": "stdout",
     "output_type": "stream",
     "text": [
      "              precision    recall  f1-score   support\n",
      "\n",
      "     neutral       0.67      0.46      0.55        69\n",
      "    positive       0.89      0.93      0.91       285\n",
      "    negative       0.90      0.92      0.91       364\n",
      "\n",
      "    accuracy                           0.88       718\n",
      "   macro avg       0.82      0.77      0.79       718\n",
      "weighted avg       0.87      0.88      0.87       718\n",
      "\n"
     ]
    }
   ],
   "source": [
    "print(classification_report(\n",
    "    df[\"polarity\"].tolist(),\n",
    "    df[\"predicted_polarity\"].tolist(),\n",
    "    target_names=[\"neutral\",\"positive\", \"negative\"],\n",
    "    digits=3\n",
    "))"
   ]
  },
  {
   "cell_type": "code",
   "execution_count": 28,
   "id": "b1bc56d7",
   "metadata": {},
   "outputs": [
    {
     "data": {
      "text/plain": [
       "array([[ 32,  14,  23],\n",
       "       [  6, 264,  15],\n",
       "       [ 10,  20, 334]], dtype=int64)"
      ]
     },
     "execution_count": 28,
     "metadata": {},
     "output_type": "execute_result"
    }
   ],
   "source": [
    "from sklearn.metrics import confusion_matrix\n",
    "confusion_matrix(df[\"polarity\"].tolist(), df[\"predicted_polarity\"].tolist())"
   ]
  },
  {
   "cell_type": "code",
   "execution_count": 66,
   "id": "7c0612a1",
   "metadata": {},
   "outputs": [
    {
     "data": {
      "text/html": [
       "<div>\n",
       "<style scoped>\n",
       "    .dataframe tbody tr th:only-of-type {\n",
       "        vertical-align: middle;\n",
       "    }\n",
       "\n",
       "    .dataframe tbody tr th {\n",
       "        vertical-align: top;\n",
       "    }\n",
       "\n",
       "    .dataframe thead th {\n",
       "        text-align: right;\n",
       "    }\n",
       "</style>\n",
       "<table border=\"1\" class=\"dataframe\">\n",
       "  <thead>\n",
       "    <tr style=\"text-align: right;\">\n",
       "      <th></th>\n",
       "      <th>text</th>\n",
       "      <th>theme</th>\n",
       "      <th>polarity</th>\n",
       "      <th>predicted_polarity</th>\n",
       "    </tr>\n",
       "  </thead>\n",
       "  <tbody>\n",
       "    <tr>\n",
       "      <th>2</th>\n",
       "      <td>Le prix est un peu élevé pour un repas qui n'a...</td>\n",
       "      <td>repas</td>\n",
       "      <td>1</td>\n",
       "      <td>0</td>\n",
       "    </tr>\n",
       "    <tr>\n",
       "      <th>94</th>\n",
       "      <td>surprise avant même de passer la commande : un...</td>\n",
       "      <td>serveuse</td>\n",
       "      <td>1</td>\n",
       "      <td>2</td>\n",
       "    </tr>\n",
       "    <tr>\n",
       "      <th>112</th>\n",
       "      <td>assiette de fromage au singulier ..... &lt;/s&gt; as...</td>\n",
       "      <td>assiette de fromage</td>\n",
       "      <td>1</td>\n",
       "      <td>2</td>\n",
       "    </tr>\n",
       "    <tr>\n",
       "      <th>167</th>\n",
       "      <td>3 plats arrivent enfin, puis une viande demand...</td>\n",
       "      <td>viande</td>\n",
       "      <td>1</td>\n",
       "      <td>2</td>\n",
       "    </tr>\n",
       "    <tr>\n",
       "      <th>180</th>\n",
       "      <td>Ravioles et tartiflette correctes, crêpe suzet...</td>\n",
       "      <td>crêpe suzette</td>\n",
       "      <td>1</td>\n",
       "      <td>0</td>\n",
       "    </tr>\n",
       "    <tr>\n",
       "      <th>250</th>\n",
       "      <td>le service etait proche du zero absolue et le ...</td>\n",
       "      <td>bouffe</td>\n",
       "      <td>1</td>\n",
       "      <td>0</td>\n",
       "    </tr>\n",
       "    <tr>\n",
       "      <th>253</th>\n",
       "      <td>je pense me rattraper sur le dessert avec la m...</td>\n",
       "      <td>mousse au chocolat</td>\n",
       "      <td>1</td>\n",
       "      <td>2</td>\n",
       "    </tr>\n",
       "    <tr>\n",
       "      <th>308</th>\n",
       "      <td>Le repas était assez bon, mais tout est sûreme...</td>\n",
       "      <td>repas</td>\n",
       "      <td>1</td>\n",
       "      <td>2</td>\n",
       "    </tr>\n",
       "    <tr>\n",
       "      <th>309</th>\n",
       "      <td>Nous avons découvert ce restaurant avec Groupo...</td>\n",
       "      <td>restaurant</td>\n",
       "      <td>1</td>\n",
       "      <td>2</td>\n",
       "    </tr>\n",
       "    <tr>\n",
       "      <th>344</th>\n",
       "      <td>Il y a quelques années, le burger en forme de ...</td>\n",
       "      <td>burger</td>\n",
       "      <td>1</td>\n",
       "      <td>2</td>\n",
       "    </tr>\n",
       "    <tr>\n",
       "      <th>386</th>\n",
       "      <td>A la carte,plus cher, la sole meunière est un ...</td>\n",
       "      <td>sole meunière</td>\n",
       "      <td>1</td>\n",
       "      <td>2</td>\n",
       "    </tr>\n",
       "    <tr>\n",
       "      <th>408</th>\n",
       "      <td>Service superbe et très accueillant, malheureu...</td>\n",
       "      <td>Service</td>\n",
       "      <td>1</td>\n",
       "      <td>2</td>\n",
       "    </tr>\n",
       "    <tr>\n",
       "      <th>429</th>\n",
       "      <td>Si l'on veut deux accompagnements, cela est mê...</td>\n",
       "      <td>accompagnements</td>\n",
       "      <td>1</td>\n",
       "      <td>0</td>\n",
       "    </tr>\n",
       "    <tr>\n",
       "      <th>477</th>\n",
       "      <td>Pour avoir été testé par des membres de la soi...</td>\n",
       "      <td>restaurant</td>\n",
       "      <td>1</td>\n",
       "      <td>2</td>\n",
       "    </tr>\n",
       "    <tr>\n",
       "      <th>479</th>\n",
       "      <td>Les frites sont certes maisons mais FAITES DES...</td>\n",
       "      <td>frites</td>\n",
       "      <td>1</td>\n",
       "      <td>2</td>\n",
       "    </tr>\n",
       "    <tr>\n",
       "      <th>496</th>\n",
       "      <td>Ambiance très parisienne, très m'as tu vu ! &lt;/...</td>\n",
       "      <td>Ambiance</td>\n",
       "      <td>1</td>\n",
       "      <td>2</td>\n",
       "    </tr>\n",
       "    <tr>\n",
       "      <th>534</th>\n",
       "      <td>L’accueil laisse à penser que tout va bien se ...</td>\n",
       "      <td>accueil</td>\n",
       "      <td>1</td>\n",
       "      <td>2</td>\n",
       "    </tr>\n",
       "    <tr>\n",
       "      <th>550</th>\n",
       "      <td>Nous commandons 2 pizza , d'aspect correcte ma...</td>\n",
       "      <td>pizza</td>\n",
       "      <td>1</td>\n",
       "      <td>0</td>\n",
       "    </tr>\n",
       "    <tr>\n",
       "      <th>623</th>\n",
       "      <td>Nous y sommes, plat du jour tagliatelles aux f...</td>\n",
       "      <td>produits</td>\n",
       "      <td>1</td>\n",
       "      <td>2</td>\n",
       "    </tr>\n",
       "    <tr>\n",
       "      <th>660</th>\n",
       "      <td>Premiere fois dans ce restaurant dont on nous ...</td>\n",
       "      <td>restaurant</td>\n",
       "      <td>1</td>\n",
       "      <td>0</td>\n",
       "    </tr>\n",
       "    <tr>\n",
       "      <th>681</th>\n",
       "      <td>Coctails très bons mais un peu cher pour la qu...</td>\n",
       "      <td>Coctails</td>\n",
       "      <td>1</td>\n",
       "      <td>2</td>\n",
       "    </tr>\n",
       "  </tbody>\n",
       "</table>\n",
       "</div>"
      ],
      "text/plain": [
       "                                                  text                theme  \\\n",
       "2    Le prix est un peu élevé pour un repas qui n'a...                repas   \n",
       "94   surprise avant même de passer la commande : un...             serveuse   \n",
       "112  assiette de fromage au singulier ..... </s> as...  assiette de fromage   \n",
       "167  3 plats arrivent enfin, puis une viande demand...               viande   \n",
       "180  Ravioles et tartiflette correctes, crêpe suzet...        crêpe suzette   \n",
       "250  le service etait proche du zero absolue et le ...               bouffe   \n",
       "253  je pense me rattraper sur le dessert avec la m...   mousse au chocolat   \n",
       "308  Le repas était assez bon, mais tout est sûreme...                repas   \n",
       "309  Nous avons découvert ce restaurant avec Groupo...           restaurant   \n",
       "344  Il y a quelques années, le burger en forme de ...               burger   \n",
       "386  A la carte,plus cher, la sole meunière est un ...        sole meunière   \n",
       "408  Service superbe et très accueillant, malheureu...              Service   \n",
       "429  Si l'on veut deux accompagnements, cela est mê...      accompagnements   \n",
       "477  Pour avoir été testé par des membres de la soi...           restaurant   \n",
       "479  Les frites sont certes maisons mais FAITES DES...               frites   \n",
       "496  Ambiance très parisienne, très m'as tu vu ! </...             Ambiance   \n",
       "534  L’accueil laisse à penser que tout va bien se ...              accueil   \n",
       "550  Nous commandons 2 pizza , d'aspect correcte ma...                pizza   \n",
       "623  Nous y sommes, plat du jour tagliatelles aux f...             produits   \n",
       "660  Premiere fois dans ce restaurant dont on nous ...           restaurant   \n",
       "681  Coctails très bons mais un peu cher pour la qu...             Coctails   \n",
       "\n",
       "    polarity predicted_polarity  \n",
       "2          1                  0  \n",
       "94         1                  2  \n",
       "112        1                  2  \n",
       "167        1                  2  \n",
       "180        1                  0  \n",
       "250        1                  0  \n",
       "253        1                  2  \n",
       "308        1                  2  \n",
       "309        1                  2  \n",
       "344        1                  2  \n",
       "386        1                  2  \n",
       "408        1                  2  \n",
       "429        1                  0  \n",
       "477        1                  2  \n",
       "479        1                  2  \n",
       "496        1                  2  \n",
       "534        1                  2  \n",
       "550        1                  0  \n",
       "623        1                  2  \n",
       "660        1                  0  \n",
       "681        1                  2  "
      ]
     },
     "execution_count": 66,
     "metadata": {},
     "output_type": "execute_result"
    }
   ],
   "source": [
    "index = 8\n",
    "#print(df[(df[\"polarity\"] == 0) & (df[\"predicted_polarity\"] != 0)].iloc[index][\"text\"])\n",
    "#print(df[(df[\"polarity\"] == 0) & (df[\"predicted_polarity\"] != 0)].iloc[index][\"predicted_polarity\"])\n",
    "\n",
    "df[(df[\"polarity\"] == 1) & (df[\"predicted_polarity\"] != 1)]"
   ]
  },
  {
   "cell_type": "code",
   "execution_count": 67,
   "id": "7b2e0a8d",
   "metadata": {},
   "outputs": [],
   "source": [
    "df.to_csv(\"dataset/prediction.csv\",index=False)"
   ]
  },
  {
   "cell_type": "markdown",
   "id": "8366f304",
   "metadata": {},
   "source": [
    "### 1- Training with marking theme position in the sentence"
   ]
  },
  {
   "cell_type": "code",
   "execution_count": 2,
   "id": "360c26e7",
   "metadata": {},
   "outputs": [
    {
     "name": "stderr",
     "output_type": "stream",
     "text": [
      "Found cached dataset csv (C:/Users/hella/.cache/huggingface/datasets/csv/default-23400b862703960f/0.0.0/6b34fb8fcf56f7c8ba51dc895bfa2bfbe43546f190a60fcf74bb5e8afdcc2317)\n"
     ]
    },
    {
     "data": {
      "application/vnd.jupyter.widget-view+json": {
       "model_id": "9b456f196f074258a02d6292fd792bb2",
       "version_major": 2,
       "version_minor": 0
      },
      "text/plain": [
       "  0%|          | 0/1 [00:00<?, ?it/s]"
      ]
     },
     "metadata": {},
     "output_type": "display_data"
    },
    {
     "name": "stderr",
     "output_type": "stream",
     "text": [
      "Found cached dataset csv (C:/Users/hella/.cache/huggingface/datasets/csv/default-886437a754511ad6/0.0.0/6b34fb8fcf56f7c8ba51dc895bfa2bfbe43546f190a60fcf74bb5e8afdcc2317)\n"
     ]
    },
    {
     "data": {
      "application/vnd.jupyter.widget-view+json": {
       "model_id": "ddbdc64a547a49368ce68f788992ef98",
       "version_major": 2,
       "version_minor": 0
      },
      "text/plain": [
       "  0%|          | 0/1 [00:00<?, ?it/s]"
      ]
     },
     "metadata": {},
     "output_type": "display_data"
    }
   ],
   "source": [
    "from datasets import load_dataset\n",
    "\n",
    "train_dataset = load_dataset(\"csv\", data_files=\"dataset/train.csv\")\n",
    "test_dataset = load_dataset(\"csv\", data_files=\"dataset/test.csv\")"
   ]
  },
  {
   "cell_type": "code",
   "execution_count": 3,
   "id": "be5fc44b",
   "metadata": {},
   "outputs": [],
   "source": [
    "from transformers import AutoTokenizer, AutoModelForSequenceClassification"
   ]
  },
  {
   "cell_type": "code",
   "execution_count": 4,
   "id": "8c82a9bd",
   "metadata": {},
   "outputs": [],
   "source": [
    "BASE_MODEL = \"camembert-base\"\n",
    "LEARNING_RATE = 2e-5\n",
    "MAX_LENGTH = 256\n",
    "BATCH_SIZE = 4\n",
    "EPOCHS = 10"
   ]
  },
  {
   "cell_type": "code",
   "execution_count": 5,
   "id": "5103e01c",
   "metadata": {},
   "outputs": [],
   "source": [
    "id2label = {\"neutral\":0, \"negative\": 1, \"positive\": 2}\n",
    "label2id = {v:k for k,v in id2label.items()}"
   ]
  },
  {
   "cell_type": "code",
   "execution_count": 6,
   "id": "457ec92b",
   "metadata": {},
   "outputs": [],
   "source": [
    "# Fixing the seed\n",
    "from transformers import set_seed\n",
    "set_seed(42)"
   ]
  },
  {
   "cell_type": "code",
   "execution_count": 8,
   "id": "ac3024c7",
   "metadata": {},
   "outputs": [
    {
     "name": "stderr",
     "output_type": "stream",
     "text": [
      "Some weights of the model checkpoint at camembert-base were not used when initializing CamembertForSequenceClassification: ['lm_head.decoder.weight', 'lm_head.dense.weight', 'roberta.pooler.dense.bias', 'lm_head.bias', 'lm_head.dense.bias', 'roberta.pooler.dense.weight', 'lm_head.layer_norm.bias', 'lm_head.layer_norm.weight']\n",
      "- This IS expected if you are initializing CamembertForSequenceClassification from the checkpoint of a model trained on another task or with another architecture (e.g. initializing a BertForSequenceClassification model from a BertForPreTraining model).\n",
      "- This IS NOT expected if you are initializing CamembertForSequenceClassification from the checkpoint of a model that you expect to be exactly identical (initializing a BertForSequenceClassification model from a BertForSequenceClassification model).\n",
      "Some weights of CamembertForSequenceClassification were not initialized from the model checkpoint at camembert-base and are newly initialized: ['classifier.out_proj.bias', 'classifier.out_proj.weight', 'classifier.dense.weight', 'classifier.dense.bias']\n",
      "You should probably TRAIN this model on a down-stream task to be able to use it for predictions and inference.\n"
     ]
    }
   ],
   "source": [
    "tokenizer = AutoTokenizer.from_pretrained(BASE_MODEL)\n",
    "model = AutoModelForSequenceClassification.from_pretrained(BASE_MODEL, id2label=id2label, label2id=label2id)"
   ]
  },
  {
   "cell_type": "code",
   "execution_count": 11,
   "id": "d32fa639",
   "metadata": {},
   "outputs": [],
   "source": [
    "dataset = {\"train\": train_dataset[\"train\"], \"test\": test_dataset[\"train\"]}\n",
    "\n",
    "def get_features(examples):\n",
    "    \n",
    "    labels = examples[\"polarity_id\"]\n",
    "    \n",
    "    # Extracting elements for verbatim construction\n",
    "    text = examples[\"text\"]\n",
    "    theme = examples[\"theme\"]\n",
    "    start = examples[\"theme_starts\"]\n",
    "    end = examples[\"theme_ends\"]\n",
    "    \n",
    "    examples[\"text\"] = text[:start] + '\"' + text[start:end] + '\" ' + text[end+1:] + tokenizer.sep_token + \" \" + theme\n",
    "    \n",
    "    examples = tokenizer(\n",
    "        examples[\"text\"],\n",
    "        max_length = MAX_LENGTH,\n",
    "        truncation = True,\n",
    "        padding = \"max_length\"\n",
    "    )\n",
    "    \n",
    "    examples[\"label\"] = labels\n",
    "    \n",
    "    return examples"
   ]
  },
  {
   "cell_type": "code",
   "execution_count": 12,
   "id": "146c1e62",
   "metadata": {},
   "outputs": [
    {
     "data": {
      "application/vnd.jupyter.widget-view+json": {
       "model_id": "",
       "version_major": 2,
       "version_minor": 0
      },
      "text/plain": [
       "Map:   0%|          | 0/1770 [00:00<?, ? examples/s]"
      ]
     },
     "metadata": {},
     "output_type": "display_data"
    },
    {
     "data": {
      "application/vnd.jupyter.widget-view+json": {
       "model_id": "",
       "version_major": 2,
       "version_minor": 0
      },
      "text/plain": [
       "Map:   0%|          | 0/718 [00:00<?, ? examples/s]"
      ]
     },
     "metadata": {},
     "output_type": "display_data"
    }
   ],
   "source": [
    "for data_type in dataset:\n",
    "    dataset[data_type] = dataset[data_type].map(\n",
    "        get_features, remove_columns=[\"id\",\"text\",\"theme\",\"polarity\",\"polarity_id\",\"theme_starts\",\"theme_ends\"]\n",
    "    )"
   ]
  },
  {
   "cell_type": "code",
   "execution_count": 13,
   "id": "2fc0cde2",
   "metadata": {},
   "outputs": [],
   "source": [
    "import evaluate\n",
    "f1_metric = evaluate.load(\"f1\")"
   ]
  },
  {
   "cell_type": "code",
   "execution_count": 14,
   "id": "ced94138",
   "metadata": {},
   "outputs": [],
   "source": [
    "def compute_metrics(eval_pred):\n",
    "    logits, labels = eval_pred\n",
    "    predictions = np.argmax(logits, axis=-1)\n",
    "    \n",
    "    return f1_metric.compute(predictions=predictions, references=labels, average=\"macro\")"
   ]
  },
  {
   "cell_type": "code",
   "execution_count": 15,
   "id": "ec8e7984",
   "metadata": {},
   "outputs": [
    {
     "data": {
      "text/plain": [
       "CamembertForSequenceClassification(\n",
       "  (roberta): CamembertModel(\n",
       "    (embeddings): CamembertEmbeddings(\n",
       "      (word_embeddings): Embedding(32005, 768, padding_idx=1)\n",
       "      (position_embeddings): Embedding(514, 768, padding_idx=1)\n",
       "      (token_type_embeddings): Embedding(1, 768)\n",
       "      (LayerNorm): LayerNorm((768,), eps=1e-05, elementwise_affine=True)\n",
       "      (dropout): Dropout(p=0.1, inplace=False)\n",
       "    )\n",
       "    (encoder): CamembertEncoder(\n",
       "      (layer): ModuleList(\n",
       "        (0): CamembertLayer(\n",
       "          (attention): CamembertAttention(\n",
       "            (self): CamembertSelfAttention(\n",
       "              (query): Linear(in_features=768, out_features=768, bias=True)\n",
       "              (key): Linear(in_features=768, out_features=768, bias=True)\n",
       "              (value): Linear(in_features=768, out_features=768, bias=True)\n",
       "              (dropout): Dropout(p=0.1, inplace=False)\n",
       "            )\n",
       "            (output): CamembertSelfOutput(\n",
       "              (dense): Linear(in_features=768, out_features=768, bias=True)\n",
       "              (LayerNorm): LayerNorm((768,), eps=1e-05, elementwise_affine=True)\n",
       "              (dropout): Dropout(p=0.1, inplace=False)\n",
       "            )\n",
       "          )\n",
       "          (intermediate): CamembertIntermediate(\n",
       "            (dense): Linear(in_features=768, out_features=3072, bias=True)\n",
       "            (intermediate_act_fn): GELUActivation()\n",
       "          )\n",
       "          (output): CamembertOutput(\n",
       "            (dense): Linear(in_features=3072, out_features=768, bias=True)\n",
       "            (LayerNorm): LayerNorm((768,), eps=1e-05, elementwise_affine=True)\n",
       "            (dropout): Dropout(p=0.1, inplace=False)\n",
       "          )\n",
       "        )\n",
       "        (1): CamembertLayer(\n",
       "          (attention): CamembertAttention(\n",
       "            (self): CamembertSelfAttention(\n",
       "              (query): Linear(in_features=768, out_features=768, bias=True)\n",
       "              (key): Linear(in_features=768, out_features=768, bias=True)\n",
       "              (value): Linear(in_features=768, out_features=768, bias=True)\n",
       "              (dropout): Dropout(p=0.1, inplace=False)\n",
       "            )\n",
       "            (output): CamembertSelfOutput(\n",
       "              (dense): Linear(in_features=768, out_features=768, bias=True)\n",
       "              (LayerNorm): LayerNorm((768,), eps=1e-05, elementwise_affine=True)\n",
       "              (dropout): Dropout(p=0.1, inplace=False)\n",
       "            )\n",
       "          )\n",
       "          (intermediate): CamembertIntermediate(\n",
       "            (dense): Linear(in_features=768, out_features=3072, bias=True)\n",
       "            (intermediate_act_fn): GELUActivation()\n",
       "          )\n",
       "          (output): CamembertOutput(\n",
       "            (dense): Linear(in_features=3072, out_features=768, bias=True)\n",
       "            (LayerNorm): LayerNorm((768,), eps=1e-05, elementwise_affine=True)\n",
       "            (dropout): Dropout(p=0.1, inplace=False)\n",
       "          )\n",
       "        )\n",
       "        (2): CamembertLayer(\n",
       "          (attention): CamembertAttention(\n",
       "            (self): CamembertSelfAttention(\n",
       "              (query): Linear(in_features=768, out_features=768, bias=True)\n",
       "              (key): Linear(in_features=768, out_features=768, bias=True)\n",
       "              (value): Linear(in_features=768, out_features=768, bias=True)\n",
       "              (dropout): Dropout(p=0.1, inplace=False)\n",
       "            )\n",
       "            (output): CamembertSelfOutput(\n",
       "              (dense): Linear(in_features=768, out_features=768, bias=True)\n",
       "              (LayerNorm): LayerNorm((768,), eps=1e-05, elementwise_affine=True)\n",
       "              (dropout): Dropout(p=0.1, inplace=False)\n",
       "            )\n",
       "          )\n",
       "          (intermediate): CamembertIntermediate(\n",
       "            (dense): Linear(in_features=768, out_features=3072, bias=True)\n",
       "            (intermediate_act_fn): GELUActivation()\n",
       "          )\n",
       "          (output): CamembertOutput(\n",
       "            (dense): Linear(in_features=3072, out_features=768, bias=True)\n",
       "            (LayerNorm): LayerNorm((768,), eps=1e-05, elementwise_affine=True)\n",
       "            (dropout): Dropout(p=0.1, inplace=False)\n",
       "          )\n",
       "        )\n",
       "        (3): CamembertLayer(\n",
       "          (attention): CamembertAttention(\n",
       "            (self): CamembertSelfAttention(\n",
       "              (query): Linear(in_features=768, out_features=768, bias=True)\n",
       "              (key): Linear(in_features=768, out_features=768, bias=True)\n",
       "              (value): Linear(in_features=768, out_features=768, bias=True)\n",
       "              (dropout): Dropout(p=0.1, inplace=False)\n",
       "            )\n",
       "            (output): CamembertSelfOutput(\n",
       "              (dense): Linear(in_features=768, out_features=768, bias=True)\n",
       "              (LayerNorm): LayerNorm((768,), eps=1e-05, elementwise_affine=True)\n",
       "              (dropout): Dropout(p=0.1, inplace=False)\n",
       "            )\n",
       "          )\n",
       "          (intermediate): CamembertIntermediate(\n",
       "            (dense): Linear(in_features=768, out_features=3072, bias=True)\n",
       "            (intermediate_act_fn): GELUActivation()\n",
       "          )\n",
       "          (output): CamembertOutput(\n",
       "            (dense): Linear(in_features=3072, out_features=768, bias=True)\n",
       "            (LayerNorm): LayerNorm((768,), eps=1e-05, elementwise_affine=True)\n",
       "            (dropout): Dropout(p=0.1, inplace=False)\n",
       "          )\n",
       "        )\n",
       "        (4): CamembertLayer(\n",
       "          (attention): CamembertAttention(\n",
       "            (self): CamembertSelfAttention(\n",
       "              (query): Linear(in_features=768, out_features=768, bias=True)\n",
       "              (key): Linear(in_features=768, out_features=768, bias=True)\n",
       "              (value): Linear(in_features=768, out_features=768, bias=True)\n",
       "              (dropout): Dropout(p=0.1, inplace=False)\n",
       "            )\n",
       "            (output): CamembertSelfOutput(\n",
       "              (dense): Linear(in_features=768, out_features=768, bias=True)\n",
       "              (LayerNorm): LayerNorm((768,), eps=1e-05, elementwise_affine=True)\n",
       "              (dropout): Dropout(p=0.1, inplace=False)\n",
       "            )\n",
       "          )\n",
       "          (intermediate): CamembertIntermediate(\n",
       "            (dense): Linear(in_features=768, out_features=3072, bias=True)\n",
       "            (intermediate_act_fn): GELUActivation()\n",
       "          )\n",
       "          (output): CamembertOutput(\n",
       "            (dense): Linear(in_features=3072, out_features=768, bias=True)\n",
       "            (LayerNorm): LayerNorm((768,), eps=1e-05, elementwise_affine=True)\n",
       "            (dropout): Dropout(p=0.1, inplace=False)\n",
       "          )\n",
       "        )\n",
       "        (5): CamembertLayer(\n",
       "          (attention): CamembertAttention(\n",
       "            (self): CamembertSelfAttention(\n",
       "              (query): Linear(in_features=768, out_features=768, bias=True)\n",
       "              (key): Linear(in_features=768, out_features=768, bias=True)\n",
       "              (value): Linear(in_features=768, out_features=768, bias=True)\n",
       "              (dropout): Dropout(p=0.1, inplace=False)\n",
       "            )\n",
       "            (output): CamembertSelfOutput(\n",
       "              (dense): Linear(in_features=768, out_features=768, bias=True)\n",
       "              (LayerNorm): LayerNorm((768,), eps=1e-05, elementwise_affine=True)\n",
       "              (dropout): Dropout(p=0.1, inplace=False)\n",
       "            )\n",
       "          )\n",
       "          (intermediate): CamembertIntermediate(\n",
       "            (dense): Linear(in_features=768, out_features=3072, bias=True)\n",
       "            (intermediate_act_fn): GELUActivation()\n",
       "          )\n",
       "          (output): CamembertOutput(\n",
       "            (dense): Linear(in_features=3072, out_features=768, bias=True)\n",
       "            (LayerNorm): LayerNorm((768,), eps=1e-05, elementwise_affine=True)\n",
       "            (dropout): Dropout(p=0.1, inplace=False)\n",
       "          )\n",
       "        )\n",
       "        (6): CamembertLayer(\n",
       "          (attention): CamembertAttention(\n",
       "            (self): CamembertSelfAttention(\n",
       "              (query): Linear(in_features=768, out_features=768, bias=True)\n",
       "              (key): Linear(in_features=768, out_features=768, bias=True)\n",
       "              (value): Linear(in_features=768, out_features=768, bias=True)\n",
       "              (dropout): Dropout(p=0.1, inplace=False)\n",
       "            )\n",
       "            (output): CamembertSelfOutput(\n",
       "              (dense): Linear(in_features=768, out_features=768, bias=True)\n",
       "              (LayerNorm): LayerNorm((768,), eps=1e-05, elementwise_affine=True)\n",
       "              (dropout): Dropout(p=0.1, inplace=False)\n",
       "            )\n",
       "          )\n",
       "          (intermediate): CamembertIntermediate(\n",
       "            (dense): Linear(in_features=768, out_features=3072, bias=True)\n",
       "            (intermediate_act_fn): GELUActivation()\n",
       "          )\n",
       "          (output): CamembertOutput(\n",
       "            (dense): Linear(in_features=3072, out_features=768, bias=True)\n",
       "            (LayerNorm): LayerNorm((768,), eps=1e-05, elementwise_affine=True)\n",
       "            (dropout): Dropout(p=0.1, inplace=False)\n",
       "          )\n",
       "        )\n",
       "        (7): CamembertLayer(\n",
       "          (attention): CamembertAttention(\n",
       "            (self): CamembertSelfAttention(\n",
       "              (query): Linear(in_features=768, out_features=768, bias=True)\n",
       "              (key): Linear(in_features=768, out_features=768, bias=True)\n",
       "              (value): Linear(in_features=768, out_features=768, bias=True)\n",
       "              (dropout): Dropout(p=0.1, inplace=False)\n",
       "            )\n",
       "            (output): CamembertSelfOutput(\n",
       "              (dense): Linear(in_features=768, out_features=768, bias=True)\n",
       "              (LayerNorm): LayerNorm((768,), eps=1e-05, elementwise_affine=True)\n",
       "              (dropout): Dropout(p=0.1, inplace=False)\n",
       "            )\n",
       "          )\n",
       "          (intermediate): CamembertIntermediate(\n",
       "            (dense): Linear(in_features=768, out_features=3072, bias=True)\n",
       "            (intermediate_act_fn): GELUActivation()\n",
       "          )\n",
       "          (output): CamembertOutput(\n",
       "            (dense): Linear(in_features=3072, out_features=768, bias=True)\n",
       "            (LayerNorm): LayerNorm((768,), eps=1e-05, elementwise_affine=True)\n",
       "            (dropout): Dropout(p=0.1, inplace=False)\n",
       "          )\n",
       "        )\n",
       "        (8): CamembertLayer(\n",
       "          (attention): CamembertAttention(\n",
       "            (self): CamembertSelfAttention(\n",
       "              (query): Linear(in_features=768, out_features=768, bias=True)\n",
       "              (key): Linear(in_features=768, out_features=768, bias=True)\n",
       "              (value): Linear(in_features=768, out_features=768, bias=True)\n",
       "              (dropout): Dropout(p=0.1, inplace=False)\n",
       "            )\n",
       "            (output): CamembertSelfOutput(\n",
       "              (dense): Linear(in_features=768, out_features=768, bias=True)\n",
       "              (LayerNorm): LayerNorm((768,), eps=1e-05, elementwise_affine=True)\n",
       "              (dropout): Dropout(p=0.1, inplace=False)\n",
       "            )\n",
       "          )\n",
       "          (intermediate): CamembertIntermediate(\n",
       "            (dense): Linear(in_features=768, out_features=3072, bias=True)\n",
       "            (intermediate_act_fn): GELUActivation()\n",
       "          )\n",
       "          (output): CamembertOutput(\n",
       "            (dense): Linear(in_features=3072, out_features=768, bias=True)\n",
       "            (LayerNorm): LayerNorm((768,), eps=1e-05, elementwise_affine=True)\n",
       "            (dropout): Dropout(p=0.1, inplace=False)\n",
       "          )\n",
       "        )\n",
       "        (9): CamembertLayer(\n",
       "          (attention): CamembertAttention(\n",
       "            (self): CamembertSelfAttention(\n",
       "              (query): Linear(in_features=768, out_features=768, bias=True)\n",
       "              (key): Linear(in_features=768, out_features=768, bias=True)\n",
       "              (value): Linear(in_features=768, out_features=768, bias=True)\n",
       "              (dropout): Dropout(p=0.1, inplace=False)\n",
       "            )\n",
       "            (output): CamembertSelfOutput(\n",
       "              (dense): Linear(in_features=768, out_features=768, bias=True)\n",
       "              (LayerNorm): LayerNorm((768,), eps=1e-05, elementwise_affine=True)\n",
       "              (dropout): Dropout(p=0.1, inplace=False)\n",
       "            )\n",
       "          )\n",
       "          (intermediate): CamembertIntermediate(\n",
       "            (dense): Linear(in_features=768, out_features=3072, bias=True)\n",
       "            (intermediate_act_fn): GELUActivation()\n",
       "          )\n",
       "          (output): CamembertOutput(\n",
       "            (dense): Linear(in_features=3072, out_features=768, bias=True)\n",
       "            (LayerNorm): LayerNorm((768,), eps=1e-05, elementwise_affine=True)\n",
       "            (dropout): Dropout(p=0.1, inplace=False)\n",
       "          )\n",
       "        )\n",
       "        (10): CamembertLayer(\n",
       "          (attention): CamembertAttention(\n",
       "            (self): CamembertSelfAttention(\n",
       "              (query): Linear(in_features=768, out_features=768, bias=True)\n",
       "              (key): Linear(in_features=768, out_features=768, bias=True)\n",
       "              (value): Linear(in_features=768, out_features=768, bias=True)\n",
       "              (dropout): Dropout(p=0.1, inplace=False)\n",
       "            )\n",
       "            (output): CamembertSelfOutput(\n",
       "              (dense): Linear(in_features=768, out_features=768, bias=True)\n",
       "              (LayerNorm): LayerNorm((768,), eps=1e-05, elementwise_affine=True)\n",
       "              (dropout): Dropout(p=0.1, inplace=False)\n",
       "            )\n",
       "          )\n",
       "          (intermediate): CamembertIntermediate(\n",
       "            (dense): Linear(in_features=768, out_features=3072, bias=True)\n",
       "            (intermediate_act_fn): GELUActivation()\n",
       "          )\n",
       "          (output): CamembertOutput(\n",
       "            (dense): Linear(in_features=3072, out_features=768, bias=True)\n",
       "            (LayerNorm): LayerNorm((768,), eps=1e-05, elementwise_affine=True)\n",
       "            (dropout): Dropout(p=0.1, inplace=False)\n",
       "          )\n",
       "        )\n",
       "        (11): CamembertLayer(\n",
       "          (attention): CamembertAttention(\n",
       "            (self): CamembertSelfAttention(\n",
       "              (query): Linear(in_features=768, out_features=768, bias=True)\n",
       "              (key): Linear(in_features=768, out_features=768, bias=True)\n",
       "              (value): Linear(in_features=768, out_features=768, bias=True)\n",
       "              (dropout): Dropout(p=0.1, inplace=False)\n",
       "            )\n",
       "            (output): CamembertSelfOutput(\n",
       "              (dense): Linear(in_features=768, out_features=768, bias=True)\n",
       "              (LayerNorm): LayerNorm((768,), eps=1e-05, elementwise_affine=True)\n",
       "              (dropout): Dropout(p=0.1, inplace=False)\n",
       "            )\n",
       "          )\n",
       "          (intermediate): CamembertIntermediate(\n",
       "            (dense): Linear(in_features=768, out_features=3072, bias=True)\n",
       "            (intermediate_act_fn): GELUActivation()\n",
       "          )\n",
       "          (output): CamembertOutput(\n",
       "            (dense): Linear(in_features=3072, out_features=768, bias=True)\n",
       "            (LayerNorm): LayerNorm((768,), eps=1e-05, elementwise_affine=True)\n",
       "            (dropout): Dropout(p=0.1, inplace=False)\n",
       "          )\n",
       "        )\n",
       "      )\n",
       "    )\n",
       "  )\n",
       "  (classifier): CamembertClassificationHead(\n",
       "    (dense): Linear(in_features=768, out_features=768, bias=True)\n",
       "    (dropout): Dropout(p=0.1, inplace=False)\n",
       "    (out_proj): Linear(in_features=768, out_features=3, bias=True)\n",
       "  )\n",
       ")"
      ]
     },
     "execution_count": 15,
     "metadata": {},
     "output_type": "execute_result"
    }
   ],
   "source": [
    "import torch\n",
    "device = \"cuda\" if torch.cuda.is_available() else \"cpu\"\n",
    "model.to(device)"
   ]
  },
  {
   "cell_type": "code",
   "execution_count": 16,
   "id": "d093cea9",
   "metadata": {},
   "outputs": [],
   "source": [
    "from transformers import TrainingArguments\n",
    "\n",
    "training_args = TrainingArguments(\n",
    "    output_dir = \"model/with_marking\",\n",
    "    learning_rate = LEARNING_RATE,\n",
    "    per_device_train_batch_size=BATCH_SIZE,\n",
    "    per_device_eval_batch_size=BATCH_SIZE,\n",
    "    num_train_epochs=EPOCHS,\n",
    "    evaluation_strategy=\"epoch\",\n",
    "    save_strategy=\"epoch\",\n",
    "    metric_for_best_model=\"f1\",\n",
    "    load_best_model_at_end=True,\n",
    "    weight_decay=0.01,\n",
    ")"
   ]
  },
  {
   "cell_type": "code",
   "execution_count": 17,
   "id": "1551f0d1",
   "metadata": {},
   "outputs": [],
   "source": [
    "from transformers import Trainer\n",
    "\n",
    "trainer = Trainer(\n",
    "    model=model,\n",
    "    args = training_args,\n",
    "    train_dataset = dataset[\"train\"],\n",
    "    eval_dataset= dataset[\"test\"],\n",
    "    compute_metrics=compute_metrics\n",
    ")"
   ]
  },
  {
   "cell_type": "code",
   "execution_count": 18,
   "id": "4709e5a6",
   "metadata": {},
   "outputs": [
    {
     "name": "stderr",
     "output_type": "stream",
     "text": [
      "C:\\Users\\hella\\anaconda3\\lib\\site-packages\\transformers\\optimization.py:306: FutureWarning: This implementation of AdamW is deprecated and will be removed in a future version. Use the PyTorch implementation torch.optim.AdamW instead, or set `no_deprecation_warning=True` to disable this warning\n",
      "  warnings.warn(\n",
      "***** Running training *****\n",
      "  Num examples = 1770\n",
      "  Num Epochs = 10\n",
      "  Instantaneous batch size per device = 4\n",
      "  Total train batch size (w. parallel, distributed & accumulation) = 4\n",
      "  Gradient Accumulation steps = 1\n",
      "  Total optimization steps = 4430\n",
      "  Number of trainable parameters = 110624259\n"
     ]
    },
    {
     "data": {
      "text/html": [
       "\n",
       "    <div>\n",
       "      \n",
       "      <progress value='4430' max='4430' style='width:300px; height:20px; vertical-align: middle;'></progress>\n",
       "      [4430/4430 18:09, Epoch 10/10]\n",
       "    </div>\n",
       "    <table border=\"1\" class=\"dataframe\">\n",
       "  <thead>\n",
       " <tr style=\"text-align: left;\">\n",
       "      <th>Epoch</th>\n",
       "      <th>Training Loss</th>\n",
       "      <th>Validation Loss</th>\n",
       "      <th>F1</th>\n",
       "    </tr>\n",
       "  </thead>\n",
       "  <tbody>\n",
       "    <tr>\n",
       "      <td>1</td>\n",
       "      <td>No log</td>\n",
       "      <td>0.569096</td>\n",
       "      <td>0.589903</td>\n",
       "    </tr>\n",
       "    <tr>\n",
       "      <td>2</td>\n",
       "      <td>0.584300</td>\n",
       "      <td>0.429096</td>\n",
       "      <td>0.748856</td>\n",
       "    </tr>\n",
       "    <tr>\n",
       "      <td>3</td>\n",
       "      <td>0.369200</td>\n",
       "      <td>0.631268</td>\n",
       "      <td>0.733282</td>\n",
       "    </tr>\n",
       "    <tr>\n",
       "      <td>4</td>\n",
       "      <td>0.257500</td>\n",
       "      <td>0.673415</td>\n",
       "      <td>0.749640</td>\n",
       "    </tr>\n",
       "    <tr>\n",
       "      <td>5</td>\n",
       "      <td>0.184700</td>\n",
       "      <td>0.681142</td>\n",
       "      <td>0.773675</td>\n",
       "    </tr>\n",
       "    <tr>\n",
       "      <td>6</td>\n",
       "      <td>0.140300</td>\n",
       "      <td>0.697807</td>\n",
       "      <td>0.783118</td>\n",
       "    </tr>\n",
       "    <tr>\n",
       "      <td>7</td>\n",
       "      <td>0.131300</td>\n",
       "      <td>0.672519</td>\n",
       "      <td>0.793332</td>\n",
       "    </tr>\n",
       "    <tr>\n",
       "      <td>8</td>\n",
       "      <td>0.098600</td>\n",
       "      <td>0.712560</td>\n",
       "      <td>0.771089</td>\n",
       "    </tr>\n",
       "    <tr>\n",
       "      <td>9</td>\n",
       "      <td>0.098600</td>\n",
       "      <td>0.715070</td>\n",
       "      <td>0.784351</td>\n",
       "    </tr>\n",
       "    <tr>\n",
       "      <td>10</td>\n",
       "      <td>0.076700</td>\n",
       "      <td>0.716301</td>\n",
       "      <td>0.794138</td>\n",
       "    </tr>\n",
       "  </tbody>\n",
       "</table><p>"
      ],
      "text/plain": [
       "<IPython.core.display.HTML object>"
      ]
     },
     "metadata": {},
     "output_type": "display_data"
    },
    {
     "name": "stderr",
     "output_type": "stream",
     "text": [
      "***** Running Evaluation *****\n",
      "  Num examples = 718\n",
      "  Batch size = 4\n",
      "Saving model checkpoint to model/with_marking\\checkpoint-443\n",
      "Configuration saved in model/with_marking\\checkpoint-443\\config.json\n",
      "Model weights saved in model/with_marking\\checkpoint-443\\pytorch_model.bin\n",
      "***** Running Evaluation *****\n",
      "  Num examples = 718\n",
      "  Batch size = 4\n",
      "Saving model checkpoint to model/with_marking\\checkpoint-886\n",
      "Configuration saved in model/with_marking\\checkpoint-886\\config.json\n",
      "Model weights saved in model/with_marking\\checkpoint-886\\pytorch_model.bin\n",
      "***** Running Evaluation *****\n",
      "  Num examples = 718\n",
      "  Batch size = 4\n",
      "Saving model checkpoint to model/with_marking\\checkpoint-1329\n",
      "Configuration saved in model/with_marking\\checkpoint-1329\\config.json\n",
      "Model weights saved in model/with_marking\\checkpoint-1329\\pytorch_model.bin\n",
      "***** Running Evaluation *****\n",
      "  Num examples = 718\n",
      "  Batch size = 4\n",
      "Saving model checkpoint to model/with_marking\\checkpoint-1772\n",
      "Configuration saved in model/with_marking\\checkpoint-1772\\config.json\n",
      "Model weights saved in model/with_marking\\checkpoint-1772\\pytorch_model.bin\n",
      "***** Running Evaluation *****\n",
      "  Num examples = 718\n",
      "  Batch size = 4\n",
      "Saving model checkpoint to model/with_marking\\checkpoint-2215\n",
      "Configuration saved in model/with_marking\\checkpoint-2215\\config.json\n",
      "Model weights saved in model/with_marking\\checkpoint-2215\\pytorch_model.bin\n",
      "***** Running Evaluation *****\n",
      "  Num examples = 718\n",
      "  Batch size = 4\n",
      "Saving model checkpoint to model/with_marking\\checkpoint-2658\n",
      "Configuration saved in model/with_marking\\checkpoint-2658\\config.json\n",
      "Model weights saved in model/with_marking\\checkpoint-2658\\pytorch_model.bin\n",
      "***** Running Evaluation *****\n",
      "  Num examples = 718\n",
      "  Batch size = 4\n",
      "Saving model checkpoint to model/with_marking\\checkpoint-3101\n",
      "Configuration saved in model/with_marking\\checkpoint-3101\\config.json\n",
      "Model weights saved in model/with_marking\\checkpoint-3101\\pytorch_model.bin\n",
      "***** Running Evaluation *****\n",
      "  Num examples = 718\n",
      "  Batch size = 4\n",
      "Saving model checkpoint to model/with_marking\\checkpoint-3544\n",
      "Configuration saved in model/with_marking\\checkpoint-3544\\config.json\n",
      "Model weights saved in model/with_marking\\checkpoint-3544\\pytorch_model.bin\n",
      "***** Running Evaluation *****\n",
      "  Num examples = 718\n",
      "  Batch size = 4\n",
      "Saving model checkpoint to model/with_marking\\checkpoint-3987\n",
      "Configuration saved in model/with_marking\\checkpoint-3987\\config.json\n",
      "Model weights saved in model/with_marking\\checkpoint-3987\\pytorch_model.bin\n",
      "***** Running Evaluation *****\n",
      "  Num examples = 718\n",
      "  Batch size = 4\n",
      "Saving model checkpoint to model/with_marking\\checkpoint-4430\n",
      "Configuration saved in model/with_marking\\checkpoint-4430\\config.json\n",
      "Model weights saved in model/with_marking\\checkpoint-4430\\pytorch_model.bin\n",
      "\n",
      "\n",
      "Training completed. Do not forget to share your model on huggingface.co/models =)\n",
      "\n",
      "\n",
      "Loading best model from model/with_marking\\checkpoint-4430 (score: 0.7941382302274914).\n"
     ]
    },
    {
     "data": {
      "text/plain": [
       "TrainOutput(global_step=4430, training_loss=0.21415282522851672, metrics={'train_runtime': 1090.8504, 'train_samples_per_second': 16.226, 'train_steps_per_second': 4.061, 'total_flos': 2328553746892800.0, 'train_loss': 0.21415282522851672, 'epoch': 10.0})"
      ]
     },
     "execution_count": 18,
     "metadata": {},
     "output_type": "execute_result"
    }
   ],
   "source": [
    "trainer.train()"
   ]
  },
  {
   "cell_type": "code",
   "execution_count": 19,
   "id": "ba08f080",
   "metadata": {},
   "outputs": [
    {
     "name": "stderr",
     "output_type": "stream",
     "text": [
      "***** Running Evaluation *****\n",
      "  Num examples = 718\n",
      "  Batch size = 4\n"
     ]
    },
    {
     "data": {
      "text/html": [
       "\n",
       "    <div>\n",
       "      \n",
       "      <progress value='180' max='180' style='width:300px; height:20px; vertical-align: middle;'></progress>\n",
       "      [180/180 00:10]\n",
       "    </div>\n",
       "    "
      ],
      "text/plain": [
       "<IPython.core.display.HTML object>"
      ]
     },
     "metadata": {},
     "output_type": "display_data"
    },
    {
     "data": {
      "text/plain": [
       "{'eval_loss': 0.7163009643554688,\n",
       " 'eval_f1': 0.7941382302274914,\n",
       " 'eval_runtime': 11.0249,\n",
       " 'eval_samples_per_second': 65.126,\n",
       " 'eval_steps_per_second': 16.327,\n",
       " 'epoch': 10.0}"
      ]
     },
     "execution_count": 19,
     "metadata": {},
     "output_type": "execute_result"
    }
   ],
   "source": [
    "trainer.eval_dataset=dataset[\"test\"]\n",
    "trainer.evaluate()"
   ]
  },
  {
   "cell_type": "code",
   "execution_count": 20,
   "id": "9e4120a4",
   "metadata": {},
   "outputs": [
    {
     "name": "stderr",
     "output_type": "stream",
     "text": [
      "Configuration saved in model/with_marking/best_checkpoint\\config.json\n",
      "Model weights saved in model/with_marking/best_checkpoint\\pytorch_model.bin\n"
     ]
    }
   ],
   "source": [
    "model.save_pretrained(\"model/with_marking/best_checkpoint\")"
   ]
  },
  {
   "cell_type": "code",
   "execution_count": 21,
   "id": "18db9eac",
   "metadata": {},
   "outputs": [
    {
     "name": "stderr",
     "output_type": "stream",
     "text": [
      "tokenizer config file saved in model/with_marking/best_checkpoint\\tokenizer_config.json\n",
      "Special tokens file saved in model/with_marking/best_checkpoint\\special_tokens_map.json\n"
     ]
    },
    {
     "data": {
      "text/plain": [
       "('model/with_marking/best_checkpoint\\\\tokenizer_config.json',\n",
       " 'model/with_marking/best_checkpoint\\\\special_tokens_map.json',\n",
       " 'model/with_marking/best_checkpoint\\\\sentencepiece.bpe.model',\n",
       " 'model/with_marking/best_checkpoint\\\\added_tokens.json',\n",
       " 'model/with_marking/best_checkpoint\\\\tokenizer.json')"
      ]
     },
     "execution_count": 21,
     "metadata": {},
     "output_type": "execute_result"
    }
   ],
   "source": [
    "tokenizer.save_pretrained(\"model/with_marking/best_checkpoint\")"
   ]
  },
  {
   "cell_type": "code",
   "execution_count": 24,
   "id": "fcd85e13",
   "metadata": {},
   "outputs": [],
   "source": [
    "def transform_text(examples):\n",
    "    # Extracting elements for verbatim construction\n",
    "    text = examples[\"text\"]\n",
    "    theme = examples[\"theme\"]\n",
    "    start = examples[\"theme_starts\"]\n",
    "    end = examples[\"theme_ends\"]\n",
    "    \n",
    "    examples[\"text\"] = text[:start] + '\"' + text[start:end] + '\" ' + text[end+1:] + tokenizer.sep_token + \" \" + theme\n",
    "    \n",
    "    return examples"
   ]
  },
  {
   "cell_type": "code",
   "execution_count": 25,
   "id": "e4155b87",
   "metadata": {},
   "outputs": [
    {
     "data": {
      "application/vnd.jupyter.widget-view+json": {
       "model_id": "",
       "version_major": 2,
       "version_minor": 0
      },
      "text/plain": [
       "Map:   0%|          | 0/718 [00:00<?, ? examples/s]"
      ]
     },
     "metadata": {},
     "output_type": "display_data"
    }
   ],
   "source": [
    "test_dataset = test_dataset.map(transform_text)"
   ]
  },
  {
   "cell_type": "code",
   "execution_count": 32,
   "id": "09394fca",
   "metadata": {},
   "outputs": [
    {
     "data": {
      "text/plain": [
       "Dataset({\n",
       "    features: ['input_ids', 'attention_mask', 'label'],\n",
       "    num_rows: 718\n",
       "})"
      ]
     },
     "execution_count": 32,
     "metadata": {},
     "output_type": "execute_result"
    }
   ],
   "source": [
    "dataset[\"test\"]"
   ]
  },
  {
   "cell_type": "code",
   "execution_count": 31,
   "id": "fb258566",
   "metadata": {},
   "outputs": [
    {
     "data": {
      "text/plain": [
       "DatasetDict({\n",
       "    train: Dataset({\n",
       "        features: ['id', 'text', 'theme', 'polarity', 'theme_starts', 'theme_ends', 'polarity_id'],\n",
       "        num_rows: 718\n",
       "    })\n",
       "})"
      ]
     },
     "execution_count": 31,
     "metadata": {},
     "output_type": "execute_result"
    }
   ],
   "source": [
    "test_dataset"
   ]
  },
  {
   "cell_type": "code",
   "execution_count": 26,
   "id": "ec6f2c36",
   "metadata": {},
   "outputs": [],
   "source": [
    "import math\n",
    "import pandas as pd\n",
    "\n",
    "nb_batches = math.ceil(len(test_dataset[\"train\"])/BATCH_SIZE)\n",
    "y_preds = []\n",
    "\n",
    "for i in range(nb_batches):\n",
    "    input_texts = test_dataset[\"train\"][i * BATCH_SIZE: (i+1) * BATCH_SIZE][\"text\"]\n",
    "    input_labels = test_dataset[\"train\"][i * BATCH_SIZE: (i+1) * BATCH_SIZE][\"polarity_id\"]\n",
    "    encoded = tokenizer(input_texts, truncation=True, padding=\"max_length\", max_length=256, return_tensors=\"pt\").to(device)\n",
    "    y_preds += np.argmax(model(**encoded).logits.detach().cpu(),axis=-1).tolist()"
   ]
  },
  {
   "cell_type": "code",
   "execution_count": 27,
   "id": "25f9c937",
   "metadata": {},
   "outputs": [],
   "source": [
    "df = pd.DataFrame(\n",
    "    [test_dataset[\"train\"][\"text\"],test_dataset[\"train\"][\"theme\"], test_dataset[\"train\"][\"polarity_id\"], y_preds],\n",
    "    [\"text\", \"theme\",\"polarity\",\"predicted_polarity\"]\n",
    ").T"
   ]
  },
  {
   "cell_type": "code",
   "execution_count": 28,
   "id": "baee6dd8",
   "metadata": {},
   "outputs": [],
   "source": [
    "from sklearn.metrics import classification_report"
   ]
  },
  {
   "cell_type": "code",
   "execution_count": 29,
   "id": "236710ec",
   "metadata": {},
   "outputs": [
    {
     "name": "stdout",
     "output_type": "stream",
     "text": [
      "              precision    recall  f1-score   support\n",
      "\n",
      "     neutral       0.60      0.52      0.56        69\n",
      "    positive       0.90      0.92      0.91       285\n",
      "    negative       0.91      0.91      0.91       364\n",
      "\n",
      "    accuracy                           0.88       718\n",
      "   macro avg       0.80      0.79      0.79       718\n",
      "weighted avg       0.88      0.88      0.88       718\n",
      "\n"
     ]
    }
   ],
   "source": [
    "print(classification_report(\n",
    "    df[\"polarity\"].tolist(),\n",
    "    df[\"predicted_polarity\"].tolist(),\n",
    "    target_names=[\"neutral\",\"positive\", \"negative\"],\n",
    "    digit=3\n",
    "))"
   ]
  }
 ],
 "metadata": {
  "kernelspec": {
   "display_name": "Python 3 (ipykernel)",
   "language": "python",
   "name": "python3"
  },
  "language_info": {
   "codemirror_mode": {
    "name": "ipython",
    "version": 3
   },
   "file_extension": ".py",
   "mimetype": "text/x-python",
   "name": "python",
   "nbconvert_exporter": "python",
   "pygments_lexer": "ipython3",
   "version": "3.9.13"
  }
 },
 "nbformat": 4,
 "nbformat_minor": 5
}
